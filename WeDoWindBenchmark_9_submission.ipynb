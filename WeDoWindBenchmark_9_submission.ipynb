{
 "cells": [
  {
   "cell_type": "code",
   "execution_count": 1,
   "id": "b31c14ec-44f7-4a9c-8907-67c1e0b66118",
   "metadata": {
    "tags": []
   },
   "outputs": [],
   "source": [
    "### Notebook modified from arthur girard - agirard@ethz.ch (https://gitlab.ethz.ch/arthurgirard/datadriveturbineperformanceanalysis/-/blob/main/Simple_ANN_CustomLoss_commented.py)"
   ]
  },
  {
   "cell_type": "code",
   "execution_count": 1,
   "id": "f785832f-6cfa-46dd-aeb9-5e4e52b043bf",
   "metadata": {},
   "outputs": [],
   "source": [
    "### Generate a dataframe for training from .csv file\n",
    "import pandas as pd\n",
    "import glob\n",
    "import numpy as np\n",
    "import seaborn as sns\n",
    "color_palette = sns.color_palette()\n",
    "sns.set_context('talk')\n",
    "import matplotlib.pyplot as plt\n",
    "import dswe\n",
    "from numpy import absolute\n",
    "from sklearn.model_selection import cross_val_score, train_test_split, RepeatedKFold\n",
    "from sklearn.metrics import r2_score, mean_absolute_error, mean_squared_error\n",
    "import xgboost as xgb\n",
    "from scipy.stats import zscore\n",
    "from sklearn.cluster import DBSCAN"
   ]
  },
  {
   "cell_type": "code",
   "execution_count": 2,
   "id": "a6725aa1-036b-4921-ac3f-bc06a346458c",
   "metadata": {},
   "outputs": [],
   "source": [
    "#reads a CSV file from the given file path and returns a Pandas DataFrame \n",
    "def generate_dataframe(filepath):\n",
    "  dataframe = pd.read_csv(filepath)\n",
    "  return dataframe"
   ]
  },
  {
   "cell_type": "code",
   "execution_count": 3,
   "id": "8cce0f0e-ca9f-48e8-b007-adc3c41690a1",
   "metadata": {},
   "outputs": [],
   "source": [
    "### Mapping month and day/night\n",
    "def map_time(df):\n",
    "    df['time'] = pd.to_datetime(df['time'], format='%m/%d/%Y %H:%M')\n",
    "    # Create a new column 'month'\n",
    "    df['month'] = df['time'].dt.month_name()\n",
    "    #Create a new column 'day or night'\n",
    "    #Considering that the day is between 6am and 6pm \n",
    "    df['Day.Night'] = df['time'].apply(lambda x: 'Day' if x.hour > 6 and x.hour < 18 else 'Night')\n",
    "    time_mapping = {\"Day\": 1, \"Night\": 0}\n",
    "    month_mapping =  {'January': 1, 'February': 2, 'March': 3, 'April': 4, 'May': 5, 'June': 6,\n",
    "                  'July': 7, 'August': 8, 'September': 9, 'October': 10, 'November': 11, 'December': 12}\n",
    "    df = df.replace(time_mapping)\n",
    "    df = df.replace(month_mapping)\n",
    "    df.drop(\"time\", axis = 1, inplace = True)\n",
    "    return df"
   ]
  },
  {
   "cell_type": "code",
   "execution_count": 4,
   "id": "64633eb4-2640-4abb-a2a2-a326fdc88cf3",
   "metadata": {},
   "outputs": [],
   "source": [
    "def filter_split_df_input_output(df, list_input, list_output):\n",
    "    \n",
    "    db = DBSCAN(eps=0.2, min_samples=10).fit(df[[\"wind_speed\", \"power\"]])\n",
    "    labels = db.labels_\n",
    "    n_clusters_ = len(set(labels)) - (1 if -1 in labels else 0)\n",
    "    n_noise_ = list(labels).count(-1)\n",
    "    \n",
    "    df = df[db.labels_ == 0]\n",
    "\n",
    "    x = df[list_input]\n",
    "    y = df[list_output]\n",
    "    x.fillna(0)\n",
    "    y.fillna(0)\n",
    "    \n",
    "    return (x, y)"
   ]
  },
  {
   "cell_type": "code",
   "execution_count": 5,
   "id": "07659602-f938-4f98-967c-406fa4adaff8",
   "metadata": {},
   "outputs": [],
   "source": [
    "def std_scale(df, df_reference):\n",
    "    return((df-df_reference.mean())/df_reference.std())"
   ]
  },
  {
   "cell_type": "code",
   "execution_count": 6,
   "id": "d46a35f1-110c-42bd-b7f4-dd46e78f93a6",
   "metadata": {},
   "outputs": [],
   "source": [
    "def minmax_scale(df, df_reference):\n",
    "    return((df-df_reference.min())/(df_reference.max()-df_reference.min()))"
   ]
  },
  {
   "cell_type": "code",
   "execution_count": 7,
   "id": "bfe1acda-f491-4869-a2ec-02d81beed5da",
   "metadata": {},
   "outputs": [],
   "source": [
    "def calc_rmse(y_true, y_pred):\n",
    "    return np.sqrt(np.mean((y_true.values - y_pred) ** 2))"
   ]
  },
  {
   "cell_type": "code",
   "execution_count": 8,
   "id": "978791fb-5534-410d-96f8-27217a25f4e4",
   "metadata": {},
   "outputs": [],
   "source": [
    "def print_performance(x_test, y_test, y_pred):\n",
    "    plt.figure(figsize = [6,4])\n",
    "    plt.scatter(x_test['wind_speed'], y_test,color = color_palette[0], label=\"Measurements\",s=0.1)\n",
    "    plt.scatter(x_test['wind_speed'], y_pred, color = color_palette[1], label=\"Model\",s=0.1)\n",
    "    plt.xlabel(\"Wind speed (m/s)\")\n",
    "    plt.ylabel(\"Output power (normalized)\")\n",
    "    plt.legend()\n",
    "    sns.despine()\n",
    "    plt.show()\n",
    "    \n",
    "    plt.figure(figsize = [6,4])\n",
    "    plt.scatter(y_test, y_pred, color = color_palette[0],s=0.1)\n",
    "    plt.xlabel(\"Measurements\")\n",
    "    plt.ylabel(\"Model\")\n",
    "    sns.despine()\n",
    "    plt.show()\n",
    "    \n",
    "    mse = mean_squared_error(y_test, y_pred)\n",
    "    mae = mean_absolute_error(y_test, y_pred)\n",
    "    rmse = calc_rmse(y_test, y_pred)\n",
    "    r2 = r2_score(y_test, y_pred)\n",
    "    \n",
    "    # print the results\n",
    "    print(\"MSE:\", mse)\n",
    "    print(\"MAE:\", mae)\n",
    "    print(\"RMSE:\", rmse)\n",
    "    print(\"R2 score:\", r2)\n",
    "    \n",
    "    return()"
   ]
  },
  {
   "cell_type": "code",
   "execution_count": 39,
   "id": "e301813e-f750-408d-abc3-c8747a7623f1",
   "metadata": {},
   "outputs": [],
   "source": [
    "def xgb_regressor(x, y, x_test):\n",
    "    # define model\n",
    "    model = xgb.XGBRegressor()\n",
    "    model.fit(x, y)\n",
    "    y_hat = model.predict(x_test)\n",
    "    \n",
    "    ## Uncomment the lines below to plot the feature importance:\n",
    "    # fi = pd.DataFrame(data=model.feature_importances_,\n",
    "    #          index=model.feature_names_in_,\n",
    "    #          columns=['importance'])\n",
    "    # plt.figure(figsize = [4, 3])\n",
    "    # fi.sort_values('importance').plot(kind='barh', title='Feature Importance')\n",
    "    # plt.show()\n",
    "    # sns.despine()\n",
    "\n",
    "    return(y_hat)"
   ]
  },
  {
   "cell_type": "code",
   "execution_count": 20,
   "id": "9b65a18b-8fbf-4b24-9650-610b3ea69913",
   "metadata": {},
   "outputs": [],
   "source": [
    "def xgb_regressor_custom_loss(x, y, x_test, x_val, y_val):\n",
    "    def custom_loss(y_pred, y_val):\n",
    "        d = (y_val-y_pred)\n",
    "        delta = 1  \n",
    "        scale = 1 + (d / delta) ** 2\n",
    "        scale_sqrt = np.sqrt(scale)\n",
    "        grad = d / scale_sqrt + 2 * d\n",
    "        hess = (1 / scale) / scale_sqrt + 2\n",
    "        return grad, hess\n",
    "    \n",
    "    model = xgb.XGBRegressor(n_estimators=5000,\n",
    "                       early_stopping_rounds=100,\n",
    "                       objective = custom_loss,\n",
    "                       max_depth=3,\n",
    "                       eval_metric = 'rmse',\n",
    "                       learning_rate=0.01)\n",
    "    model.fit(x, y,\n",
    "        eval_set=[(x, y), (x_val, y_val)], verbose = 500)\n",
    "    y_hat = model.predict(x_test)\n",
    "    return(y_hat)"
   ]
  },
  {
   "cell_type": "code",
   "execution_count": 14,
   "id": "44fa47d7-e2af-4b3b-876c-0cfadd811f7a",
   "metadata": {},
   "outputs": [],
   "source": [
    "'''\n",
    "This is dbscan with xgb default and all parameters\n",
    "'''\n",
    "\n",
    "\n",
    "# modify the number below accordingly\n",
    "#Participant ID number\n",
    "id_number = 9\n",
    "#Submission Number\n",
    "Submission_number = 1\n",
    "\n",
    "# load all the .csv file in the folder that end with \"training\"\n",
    "# define the file paths of the CSV files \n",
    "path_training = r'../dataset/kelmarsh/training/*training.csv'\n",
    "path2 = r'../dataset/penmanshiel/training/*training.csv'\n",
    "files = glob.glob(path_training)+ glob.glob(path2)\n",
    "# dataframe_training = pd.DataFrame()\n",
    "\n",
    "column_list_input = ['wind_speed', 'wind_speed_sensor1', 'wind_speed_sensor1_SD', 'wind_speed_sensor2', 'wind_speed_sensor2_SD', 'density_adjusted_wind_speed', 'wind_direction', 'nacelle_position', 'wind_direction_SD', 'nacelle_position_SD', 'nacelle_ambient_temperature', 'TI','Day.Night']\n",
    "column_list_ouput = ['power']"
   ]
  },
  {
   "cell_type": "code",
   "execution_count": 13,
   "id": "b8c5f52f-cf55-4e9a-b411-7544b6accdba",
   "metadata": {
    "collapsed": true,
    "jupyter": {
     "outputs_hidden": true
    },
    "tags": []
   },
   "outputs": [
    {
     "name": "stdout",
     "output_type": "stream",
     "text": [
      "Kel_df2_training.csv\n"
     ]
    },
    {
     "name": "stderr",
     "output_type": "stream",
     "text": [
      "/tmp/ipykernel_29245/898797509.py:5: FutureWarning: In a future version, the Index constructor will not infer numeric dtypes when passed object-dtype sequences (matching Series behavior)\n",
      "  df['month'] = df['time'].dt.month_name()\n",
      "/tmp/ipykernel_29245/1085349368.py:36: DeprecationWarning: In a future version, `df.iloc[:, i] = newvals` will attempt to set the values inplace instead of always setting a new array. To retain the old behavior, use either `df[df.columns[i]] = newvals` or, if columns are non-unique, `df.isetitem(i, newvals)`\n",
      "  df_test.iloc[:, 1] = predicted_power_rescaled\n"
     ]
    },
    {
     "name": "stdout",
     "output_type": "stream",
     "text": [
      "Kel_df6_training.csv\n"
     ]
    },
    {
     "name": "stderr",
     "output_type": "stream",
     "text": [
      "/tmp/ipykernel_29245/898797509.py:5: FutureWarning: In a future version, the Index constructor will not infer numeric dtypes when passed object-dtype sequences (matching Series behavior)\n",
      "  df['month'] = df['time'].dt.month_name()\n",
      "/tmp/ipykernel_29245/1085349368.py:36: DeprecationWarning: In a future version, `df.iloc[:, i] = newvals` will attempt to set the values inplace instead of always setting a new array. To retain the old behavior, use either `df[df.columns[i]] = newvals` or, if columns are non-unique, `df.isetitem(i, newvals)`\n",
      "  df_test.iloc[:, 1] = predicted_power_rescaled\n"
     ]
    },
    {
     "name": "stdout",
     "output_type": "stream",
     "text": [
      "Kel_df4_training.csv\n"
     ]
    },
    {
     "name": "stderr",
     "output_type": "stream",
     "text": [
      "/tmp/ipykernel_29245/898797509.py:5: FutureWarning: In a future version, the Index constructor will not infer numeric dtypes when passed object-dtype sequences (matching Series behavior)\n",
      "  df['month'] = df['time'].dt.month_name()\n",
      "/tmp/ipykernel_29245/1085349368.py:36: DeprecationWarning: In a future version, `df.iloc[:, i] = newvals` will attempt to set the values inplace instead of always setting a new array. To retain the old behavior, use either `df[df.columns[i]] = newvals` or, if columns are non-unique, `df.isetitem(i, newvals)`\n",
      "  df_test.iloc[:, 1] = predicted_power_rescaled\n"
     ]
    },
    {
     "name": "stdout",
     "output_type": "stream",
     "text": [
      "Kel_df1_training.csv\n"
     ]
    },
    {
     "name": "stderr",
     "output_type": "stream",
     "text": [
      "/tmp/ipykernel_29245/898797509.py:5: FutureWarning: In a future version, the Index constructor will not infer numeric dtypes when passed object-dtype sequences (matching Series behavior)\n",
      "  df['month'] = df['time'].dt.month_name()\n",
      "/tmp/ipykernel_29245/1085349368.py:36: DeprecationWarning: In a future version, `df.iloc[:, i] = newvals` will attempt to set the values inplace instead of always setting a new array. To retain the old behavior, use either `df[df.columns[i]] = newvals` or, if columns are non-unique, `df.isetitem(i, newvals)`\n",
      "  df_test.iloc[:, 1] = predicted_power_rescaled\n"
     ]
    },
    {
     "name": "stdout",
     "output_type": "stream",
     "text": [
      "Kel_df5_training.csv\n"
     ]
    },
    {
     "name": "stderr",
     "output_type": "stream",
     "text": [
      "/tmp/ipykernel_29245/898797509.py:5: FutureWarning: In a future version, the Index constructor will not infer numeric dtypes when passed object-dtype sequences (matching Series behavior)\n",
      "  df['month'] = df['time'].dt.month_name()\n",
      "/tmp/ipykernel_29245/1085349368.py:36: DeprecationWarning: In a future version, `df.iloc[:, i] = newvals` will attempt to set the values inplace instead of always setting a new array. To retain the old behavior, use either `df[df.columns[i]] = newvals` or, if columns are non-unique, `df.isetitem(i, newvals)`\n",
      "  df_test.iloc[:, 1] = predicted_power_rescaled\n"
     ]
    },
    {
     "name": "stdout",
     "output_type": "stream",
     "text": [
      "Kel_df3_training.csv\n"
     ]
    },
    {
     "name": "stderr",
     "output_type": "stream",
     "text": [
      "/tmp/ipykernel_29245/898797509.py:5: FutureWarning: In a future version, the Index constructor will not infer numeric dtypes when passed object-dtype sequences (matching Series behavior)\n",
      "  df['month'] = df['time'].dt.month_name()\n",
      "/tmp/ipykernel_29245/1085349368.py:36: DeprecationWarning: In a future version, `df.iloc[:, i] = newvals` will attempt to set the values inplace instead of always setting a new array. To retain the old behavior, use either `df[df.columns[i]] = newvals` or, if columns are non-unique, `df.isetitem(i, newvals)`\n",
      "  df_test.iloc[:, 1] = predicted_power_rescaled\n"
     ]
    },
    {
     "name": "stdout",
     "output_type": "stream",
     "text": [
      "Pen_df13_training.csv\n"
     ]
    },
    {
     "name": "stderr",
     "output_type": "stream",
     "text": [
      "/tmp/ipykernel_29245/898797509.py:5: FutureWarning: In a future version, the Index constructor will not infer numeric dtypes when passed object-dtype sequences (matching Series behavior)\n",
      "  df['month'] = df['time'].dt.month_name()\n",
      "/tmp/ipykernel_29245/1085349368.py:36: DeprecationWarning: In a future version, `df.iloc[:, i] = newvals` will attempt to set the values inplace instead of always setting a new array. To retain the old behavior, use either `df[df.columns[i]] = newvals` or, if columns are non-unique, `df.isetitem(i, newvals)`\n",
      "  df_test.iloc[:, 1] = predicted_power_rescaled\n"
     ]
    },
    {
     "name": "stdout",
     "output_type": "stream",
     "text": [
      "Pen_df8_training.csv\n"
     ]
    },
    {
     "name": "stderr",
     "output_type": "stream",
     "text": [
      "/tmp/ipykernel_29245/898797509.py:5: FutureWarning: In a future version, the Index constructor will not infer numeric dtypes when passed object-dtype sequences (matching Series behavior)\n",
      "  df['month'] = df['time'].dt.month_name()\n",
      "/tmp/ipykernel_29245/1085349368.py:36: DeprecationWarning: In a future version, `df.iloc[:, i] = newvals` will attempt to set the values inplace instead of always setting a new array. To retain the old behavior, use either `df[df.columns[i]] = newvals` or, if columns are non-unique, `df.isetitem(i, newvals)`\n",
      "  df_test.iloc[:, 1] = predicted_power_rescaled\n"
     ]
    },
    {
     "name": "stdout",
     "output_type": "stream",
     "text": [
      "Pen_df15_training.csv\n"
     ]
    },
    {
     "name": "stderr",
     "output_type": "stream",
     "text": [
      "/tmp/ipykernel_29245/898797509.py:5: FutureWarning: In a future version, the Index constructor will not infer numeric dtypes when passed object-dtype sequences (matching Series behavior)\n",
      "  df['month'] = df['time'].dt.month_name()\n",
      "/tmp/ipykernel_29245/1085349368.py:36: DeprecationWarning: In a future version, `df.iloc[:, i] = newvals` will attempt to set the values inplace instead of always setting a new array. To retain the old behavior, use either `df[df.columns[i]] = newvals` or, if columns are non-unique, `df.isetitem(i, newvals)`\n",
      "  df_test.iloc[:, 1] = predicted_power_rescaled\n"
     ]
    },
    {
     "name": "stdout",
     "output_type": "stream",
     "text": [
      "Pen_df14_training.csv\n"
     ]
    },
    {
     "name": "stderr",
     "output_type": "stream",
     "text": [
      "/tmp/ipykernel_29245/898797509.py:5: FutureWarning: In a future version, the Index constructor will not infer numeric dtypes when passed object-dtype sequences (matching Series behavior)\n",
      "  df['month'] = df['time'].dt.month_name()\n",
      "/tmp/ipykernel_29245/1085349368.py:36: DeprecationWarning: In a future version, `df.iloc[:, i] = newvals` will attempt to set the values inplace instead of always setting a new array. To retain the old behavior, use either `df[df.columns[i]] = newvals` or, if columns are non-unique, `df.isetitem(i, newvals)`\n",
      "  df_test.iloc[:, 1] = predicted_power_rescaled\n"
     ]
    },
    {
     "name": "stdout",
     "output_type": "stream",
     "text": [
      "Pen_df1_training.csv\n"
     ]
    },
    {
     "name": "stderr",
     "output_type": "stream",
     "text": [
      "/tmp/ipykernel_29245/898797509.py:5: FutureWarning: In a future version, the Index constructor will not infer numeric dtypes when passed object-dtype sequences (matching Series behavior)\n",
      "  df['month'] = df['time'].dt.month_name()\n",
      "/tmp/ipykernel_29245/1085349368.py:36: DeprecationWarning: In a future version, `df.iloc[:, i] = newvals` will attempt to set the values inplace instead of always setting a new array. To retain the old behavior, use either `df[df.columns[i]] = newvals` or, if columns are non-unique, `df.isetitem(i, newvals)`\n",
      "  df_test.iloc[:, 1] = predicted_power_rescaled\n"
     ]
    },
    {
     "name": "stdout",
     "output_type": "stream",
     "text": [
      "Pen_df4_training.csv\n"
     ]
    },
    {
     "name": "stderr",
     "output_type": "stream",
     "text": [
      "/tmp/ipykernel_29245/898797509.py:5: FutureWarning: In a future version, the Index constructor will not infer numeric dtypes when passed object-dtype sequences (matching Series behavior)\n",
      "  df['month'] = df['time'].dt.month_name()\n",
      "/tmp/ipykernel_29245/1085349368.py:36: DeprecationWarning: In a future version, `df.iloc[:, i] = newvals` will attempt to set the values inplace instead of always setting a new array. To retain the old behavior, use either `df[df.columns[i]] = newvals` or, if columns are non-unique, `df.isetitem(i, newvals)`\n",
      "  df_test.iloc[:, 1] = predicted_power_rescaled\n"
     ]
    },
    {
     "name": "stdout",
     "output_type": "stream",
     "text": [
      "Pen_df11_training.csv\n"
     ]
    },
    {
     "name": "stderr",
     "output_type": "stream",
     "text": [
      "/tmp/ipykernel_29245/898797509.py:5: FutureWarning: In a future version, the Index constructor will not infer numeric dtypes when passed object-dtype sequences (matching Series behavior)\n",
      "  df['month'] = df['time'].dt.month_name()\n",
      "/tmp/ipykernel_29245/1085349368.py:36: DeprecationWarning: In a future version, `df.iloc[:, i] = newvals` will attempt to set the values inplace instead of always setting a new array. To retain the old behavior, use either `df[df.columns[i]] = newvals` or, if columns are non-unique, `df.isetitem(i, newvals)`\n",
      "  df_test.iloc[:, 1] = predicted_power_rescaled\n"
     ]
    },
    {
     "name": "stdout",
     "output_type": "stream",
     "text": [
      "Pen_df5_training.csv\n"
     ]
    },
    {
     "name": "stderr",
     "output_type": "stream",
     "text": [
      "/tmp/ipykernel_29245/898797509.py:5: FutureWarning: In a future version, the Index constructor will not infer numeric dtypes when passed object-dtype sequences (matching Series behavior)\n",
      "  df['month'] = df['time'].dt.month_name()\n",
      "/tmp/ipykernel_29245/1085349368.py:36: DeprecationWarning: In a future version, `df.iloc[:, i] = newvals` will attempt to set the values inplace instead of always setting a new array. To retain the old behavior, use either `df[df.columns[i]] = newvals` or, if columns are non-unique, `df.isetitem(i, newvals)`\n",
      "  df_test.iloc[:, 1] = predicted_power_rescaled\n"
     ]
    },
    {
     "name": "stdout",
     "output_type": "stream",
     "text": [
      "Pen_df10_training.csv\n"
     ]
    },
    {
     "name": "stderr",
     "output_type": "stream",
     "text": [
      "/tmp/ipykernel_29245/898797509.py:5: FutureWarning: In a future version, the Index constructor will not infer numeric dtypes when passed object-dtype sequences (matching Series behavior)\n",
      "  df['month'] = df['time'].dt.month_name()\n",
      "/tmp/ipykernel_29245/1085349368.py:36: DeprecationWarning: In a future version, `df.iloc[:, i] = newvals` will attempt to set the values inplace instead of always setting a new array. To retain the old behavior, use either `df[df.columns[i]] = newvals` or, if columns are non-unique, `df.isetitem(i, newvals)`\n",
      "  df_test.iloc[:, 1] = predicted_power_rescaled\n"
     ]
    },
    {
     "name": "stdout",
     "output_type": "stream",
     "text": [
      "Pen_df12_training.csv\n"
     ]
    },
    {
     "name": "stderr",
     "output_type": "stream",
     "text": [
      "/tmp/ipykernel_29245/898797509.py:5: FutureWarning: In a future version, the Index constructor will not infer numeric dtypes when passed object-dtype sequences (matching Series behavior)\n",
      "  df['month'] = df['time'].dt.month_name()\n",
      "/tmp/ipykernel_29245/1085349368.py:36: DeprecationWarning: In a future version, `df.iloc[:, i] = newvals` will attempt to set the values inplace instead of always setting a new array. To retain the old behavior, use either `df[df.columns[i]] = newvals` or, if columns are non-unique, `df.isetitem(i, newvals)`\n",
      "  df_test.iloc[:, 1] = predicted_power_rescaled\n"
     ]
    },
    {
     "name": "stdout",
     "output_type": "stream",
     "text": [
      "Pen_df2_training.csv\n"
     ]
    },
    {
     "name": "stderr",
     "output_type": "stream",
     "text": [
      "/tmp/ipykernel_29245/898797509.py:5: FutureWarning: In a future version, the Index constructor will not infer numeric dtypes when passed object-dtype sequences (matching Series behavior)\n",
      "  df['month'] = df['time'].dt.month_name()\n",
      "/tmp/ipykernel_29245/1085349368.py:36: DeprecationWarning: In a future version, `df.iloc[:, i] = newvals` will attempt to set the values inplace instead of always setting a new array. To retain the old behavior, use either `df[df.columns[i]] = newvals` or, if columns are non-unique, `df.isetitem(i, newvals)`\n",
      "  df_test.iloc[:, 1] = predicted_power_rescaled\n"
     ]
    },
    {
     "name": "stdout",
     "output_type": "stream",
     "text": [
      "Pen_df9_training.csv\n"
     ]
    },
    {
     "name": "stderr",
     "output_type": "stream",
     "text": [
      "/tmp/ipykernel_29245/898797509.py:5: FutureWarning: In a future version, the Index constructor will not infer numeric dtypes when passed object-dtype sequences (matching Series behavior)\n",
      "  df['month'] = df['time'].dt.month_name()\n",
      "/tmp/ipykernel_29245/1085349368.py:36: DeprecationWarning: In a future version, `df.iloc[:, i] = newvals` will attempt to set the values inplace instead of always setting a new array. To retain the old behavior, use either `df[df.columns[i]] = newvals` or, if columns are non-unique, `df.isetitem(i, newvals)`\n",
      "  df_test.iloc[:, 1] = predicted_power_rescaled\n"
     ]
    },
    {
     "name": "stdout",
     "output_type": "stream",
     "text": [
      "Pen_df7_training.csv\n"
     ]
    },
    {
     "name": "stderr",
     "output_type": "stream",
     "text": [
      "/tmp/ipykernel_29245/898797509.py:5: FutureWarning: In a future version, the Index constructor will not infer numeric dtypes when passed object-dtype sequences (matching Series behavior)\n",
      "  df['month'] = df['time'].dt.month_name()\n",
      "/tmp/ipykernel_29245/1085349368.py:36: DeprecationWarning: In a future version, `df.iloc[:, i] = newvals` will attempt to set the values inplace instead of always setting a new array. To retain the old behavior, use either `df[df.columns[i]] = newvals` or, if columns are non-unique, `df.isetitem(i, newvals)`\n",
      "  df_test.iloc[:, 1] = predicted_power_rescaled\n"
     ]
    },
    {
     "name": "stdout",
     "output_type": "stream",
     "text": [
      "Pen_df6_training.csv\n"
     ]
    },
    {
     "name": "stderr",
     "output_type": "stream",
     "text": [
      "/tmp/ipykernel_29245/898797509.py:5: FutureWarning: In a future version, the Index constructor will not infer numeric dtypes when passed object-dtype sequences (matching Series behavior)\n",
      "  df['month'] = df['time'].dt.month_name()\n",
      "/tmp/ipykernel_29245/1085349368.py:36: DeprecationWarning: In a future version, `df.iloc[:, i] = newvals` will attempt to set the values inplace instead of always setting a new array. To retain the old behavior, use either `df[df.columns[i]] = newvals` or, if columns are non-unique, `df.isetitem(i, newvals)`\n",
      "  df_test.iloc[:, 1] = predicted_power_rescaled\n"
     ]
    }
   ],
   "source": [
    "for file in files:\n",
    "    dataframe_training = generate_dataframe(file)\n",
    "    current_csv_file = file.split(\"/\")[4]\n",
    "    print(current_csv_file)\n",
    "    \n",
    "    dataframe_training = map_time(dataframe_training)    \n",
    "    dataframe_training_scaled = std_scale(dataframe_training, dataframe_training)\n",
    "    x_train, y_train = filter_split_df_input_output(dataframe_training_scaled, column_list_input, column_list_ouput)\n",
    "    \n",
    "    # load the real test data\n",
    "    dataframe_test = pd.DataFrame()\n",
    "    test_file_name = file.replace(\"training\", \"test\")\n",
    "    dataframe_test = generate_dataframe(test_file_name)\n",
    "    dataframe_test = map_time(dataframe_test)  \n",
    "    dataframe_test_scaled = std_scale(dataframe_test[column_list_input], dataframe_training[column_list_input])\n",
    "\n",
    "    y_pred = xgb_regressor(x_train, y_train, dataframe_test_scaled)\n",
    "    predicted_power_rescaled = (y_pred * dataframe_training[column_list_ouput].values.std()) + dataframe_training[column_list_ouput].values.mean()\n",
    "\n",
    "    df_test = pd.read_csv(test_file_name)\n",
    "    # create a numpy array of float32 of shape [None, 1]\n",
    "    # fill the second column with the prediction array\n",
    "    df_test.iloc[:, 1] = predicted_power_rescaled\n",
    "    # save the DataFrame as a new csv file\n",
    "    csv_name = test_file_name.split(\"/\")[4]\n",
    "    prefix = str(id_number) + '_#' + str(Submission_number) + '_'\n",
    "    new_file_name = '/'.join(test_file_name.split(\"/\")[0:4]) + \"/\" + prefix + csv_name\n",
    "    # print(new_file_name)\n",
    "    df_test.to_csv(new_file_name, index=False)\n"
   ]
  },
  {
   "cell_type": "code",
   "execution_count": 17,
   "id": "f226033d-35aa-464a-b3fc-ce25e27e34e1",
   "metadata": {},
   "outputs": [],
   "source": [
    "'''\n",
    "This is dbscan with xgb default and only wind parameters\n",
    "'''\n",
    "\n",
    "\n",
    "# modify the number below accordingly\n",
    "#Participant ID number\n",
    "id_number = 9\n",
    "#Submission Number\n",
    "Submission_number = 2\n",
    "\n",
    "# load all the .csv file in the folder that end with \"training\"\n",
    "# define the file paths of the CSV files \n",
    "path_training = r'../dataset/kelmarsh/training/*training.csv'\n",
    "path2 = r'../dataset/penmanshiel/training/*training.csv'\n",
    "files = glob.glob(path_training)+ glob.glob(path2)\n",
    "# dataframe_training = pd.DataFrame()\n",
    "\n",
    "column_list_input = ['wind_speed', 'wind_speed_sensor1', 'wind_speed_sensor1_SD', 'wind_speed_sensor2', 'wind_speed_sensor2_SD', 'density_adjusted_wind_speed']\n",
    "column_list_ouput = ['power']"
   ]
  },
  {
   "cell_type": "code",
   "execution_count": 18,
   "id": "7843f04d-beb0-4345-9d5c-017fad839e69",
   "metadata": {
    "collapsed": true,
    "jupyter": {
     "outputs_hidden": true
    },
    "tags": []
   },
   "outputs": [
    {
     "name": "stdout",
     "output_type": "stream",
     "text": [
      "Kel_df2_training.csv\n"
     ]
    },
    {
     "name": "stderr",
     "output_type": "stream",
     "text": [
      "/tmp/ipykernel_29245/898797509.py:5: FutureWarning: In a future version, the Index constructor will not infer numeric dtypes when passed object-dtype sequences (matching Series behavior)\n",
      "  df['month'] = df['time'].dt.month_name()\n",
      "/tmp/ipykernel_29245/1085349368.py:36: DeprecationWarning: In a future version, `df.iloc[:, i] = newvals` will attempt to set the values inplace instead of always setting a new array. To retain the old behavior, use either `df[df.columns[i]] = newvals` or, if columns are non-unique, `df.isetitem(i, newvals)`\n",
      "  df_test.iloc[:, 1] = predicted_power_rescaled\n"
     ]
    },
    {
     "name": "stdout",
     "output_type": "stream",
     "text": [
      "Kel_df6_training.csv\n"
     ]
    },
    {
     "name": "stderr",
     "output_type": "stream",
     "text": [
      "/tmp/ipykernel_29245/898797509.py:5: FutureWarning: In a future version, the Index constructor will not infer numeric dtypes when passed object-dtype sequences (matching Series behavior)\n",
      "  df['month'] = df['time'].dt.month_name()\n",
      "/tmp/ipykernel_29245/1085349368.py:36: DeprecationWarning: In a future version, `df.iloc[:, i] = newvals` will attempt to set the values inplace instead of always setting a new array. To retain the old behavior, use either `df[df.columns[i]] = newvals` or, if columns are non-unique, `df.isetitem(i, newvals)`\n",
      "  df_test.iloc[:, 1] = predicted_power_rescaled\n"
     ]
    },
    {
     "name": "stdout",
     "output_type": "stream",
     "text": [
      "Kel_df4_training.csv\n"
     ]
    },
    {
     "name": "stderr",
     "output_type": "stream",
     "text": [
      "/tmp/ipykernel_29245/898797509.py:5: FutureWarning: In a future version, the Index constructor will not infer numeric dtypes when passed object-dtype sequences (matching Series behavior)\n",
      "  df['month'] = df['time'].dt.month_name()\n",
      "/tmp/ipykernel_29245/1085349368.py:36: DeprecationWarning: In a future version, `df.iloc[:, i] = newvals` will attempt to set the values inplace instead of always setting a new array. To retain the old behavior, use either `df[df.columns[i]] = newvals` or, if columns are non-unique, `df.isetitem(i, newvals)`\n",
      "  df_test.iloc[:, 1] = predicted_power_rescaled\n"
     ]
    },
    {
     "name": "stdout",
     "output_type": "stream",
     "text": [
      "Kel_df1_training.csv\n"
     ]
    },
    {
     "name": "stderr",
     "output_type": "stream",
     "text": [
      "/tmp/ipykernel_29245/898797509.py:5: FutureWarning: In a future version, the Index constructor will not infer numeric dtypes when passed object-dtype sequences (matching Series behavior)\n",
      "  df['month'] = df['time'].dt.month_name()\n",
      "/tmp/ipykernel_29245/1085349368.py:36: DeprecationWarning: In a future version, `df.iloc[:, i] = newvals` will attempt to set the values inplace instead of always setting a new array. To retain the old behavior, use either `df[df.columns[i]] = newvals` or, if columns are non-unique, `df.isetitem(i, newvals)`\n",
      "  df_test.iloc[:, 1] = predicted_power_rescaled\n"
     ]
    },
    {
     "name": "stdout",
     "output_type": "stream",
     "text": [
      "Kel_df5_training.csv\n"
     ]
    },
    {
     "name": "stderr",
     "output_type": "stream",
     "text": [
      "/tmp/ipykernel_29245/898797509.py:5: FutureWarning: In a future version, the Index constructor will not infer numeric dtypes when passed object-dtype sequences (matching Series behavior)\n",
      "  df['month'] = df['time'].dt.month_name()\n",
      "/tmp/ipykernel_29245/1085349368.py:36: DeprecationWarning: In a future version, `df.iloc[:, i] = newvals` will attempt to set the values inplace instead of always setting a new array. To retain the old behavior, use either `df[df.columns[i]] = newvals` or, if columns are non-unique, `df.isetitem(i, newvals)`\n",
      "  df_test.iloc[:, 1] = predicted_power_rescaled\n"
     ]
    },
    {
     "name": "stdout",
     "output_type": "stream",
     "text": [
      "Kel_df3_training.csv\n"
     ]
    },
    {
     "name": "stderr",
     "output_type": "stream",
     "text": [
      "/tmp/ipykernel_29245/898797509.py:5: FutureWarning: In a future version, the Index constructor will not infer numeric dtypes when passed object-dtype sequences (matching Series behavior)\n",
      "  df['month'] = df['time'].dt.month_name()\n",
      "/tmp/ipykernel_29245/1085349368.py:36: DeprecationWarning: In a future version, `df.iloc[:, i] = newvals` will attempt to set the values inplace instead of always setting a new array. To retain the old behavior, use either `df[df.columns[i]] = newvals` or, if columns are non-unique, `df.isetitem(i, newvals)`\n",
      "  df_test.iloc[:, 1] = predicted_power_rescaled\n"
     ]
    },
    {
     "name": "stdout",
     "output_type": "stream",
     "text": [
      "Pen_df13_training.csv\n"
     ]
    },
    {
     "name": "stderr",
     "output_type": "stream",
     "text": [
      "/tmp/ipykernel_29245/898797509.py:5: FutureWarning: In a future version, the Index constructor will not infer numeric dtypes when passed object-dtype sequences (matching Series behavior)\n",
      "  df['month'] = df['time'].dt.month_name()\n",
      "/tmp/ipykernel_29245/1085349368.py:36: DeprecationWarning: In a future version, `df.iloc[:, i] = newvals` will attempt to set the values inplace instead of always setting a new array. To retain the old behavior, use either `df[df.columns[i]] = newvals` or, if columns are non-unique, `df.isetitem(i, newvals)`\n",
      "  df_test.iloc[:, 1] = predicted_power_rescaled\n"
     ]
    },
    {
     "name": "stdout",
     "output_type": "stream",
     "text": [
      "Pen_df8_training.csv\n"
     ]
    },
    {
     "name": "stderr",
     "output_type": "stream",
     "text": [
      "/tmp/ipykernel_29245/898797509.py:5: FutureWarning: In a future version, the Index constructor will not infer numeric dtypes when passed object-dtype sequences (matching Series behavior)\n",
      "  df['month'] = df['time'].dt.month_name()\n",
      "/tmp/ipykernel_29245/1085349368.py:36: DeprecationWarning: In a future version, `df.iloc[:, i] = newvals` will attempt to set the values inplace instead of always setting a new array. To retain the old behavior, use either `df[df.columns[i]] = newvals` or, if columns are non-unique, `df.isetitem(i, newvals)`\n",
      "  df_test.iloc[:, 1] = predicted_power_rescaled\n"
     ]
    },
    {
     "name": "stdout",
     "output_type": "stream",
     "text": [
      "Pen_df15_training.csv\n"
     ]
    },
    {
     "name": "stderr",
     "output_type": "stream",
     "text": [
      "/tmp/ipykernel_29245/898797509.py:5: FutureWarning: In a future version, the Index constructor will not infer numeric dtypes when passed object-dtype sequences (matching Series behavior)\n",
      "  df['month'] = df['time'].dt.month_name()\n",
      "/tmp/ipykernel_29245/1085349368.py:36: DeprecationWarning: In a future version, `df.iloc[:, i] = newvals` will attempt to set the values inplace instead of always setting a new array. To retain the old behavior, use either `df[df.columns[i]] = newvals` or, if columns are non-unique, `df.isetitem(i, newvals)`\n",
      "  df_test.iloc[:, 1] = predicted_power_rescaled\n"
     ]
    },
    {
     "name": "stdout",
     "output_type": "stream",
     "text": [
      "Pen_df14_training.csv\n"
     ]
    },
    {
     "name": "stderr",
     "output_type": "stream",
     "text": [
      "/tmp/ipykernel_29245/898797509.py:5: FutureWarning: In a future version, the Index constructor will not infer numeric dtypes when passed object-dtype sequences (matching Series behavior)\n",
      "  df['month'] = df['time'].dt.month_name()\n",
      "/tmp/ipykernel_29245/1085349368.py:36: DeprecationWarning: In a future version, `df.iloc[:, i] = newvals` will attempt to set the values inplace instead of always setting a new array. To retain the old behavior, use either `df[df.columns[i]] = newvals` or, if columns are non-unique, `df.isetitem(i, newvals)`\n",
      "  df_test.iloc[:, 1] = predicted_power_rescaled\n"
     ]
    },
    {
     "name": "stdout",
     "output_type": "stream",
     "text": [
      "Pen_df1_training.csv\n"
     ]
    },
    {
     "name": "stderr",
     "output_type": "stream",
     "text": [
      "/tmp/ipykernel_29245/898797509.py:5: FutureWarning: In a future version, the Index constructor will not infer numeric dtypes when passed object-dtype sequences (matching Series behavior)\n",
      "  df['month'] = df['time'].dt.month_name()\n",
      "/tmp/ipykernel_29245/1085349368.py:36: DeprecationWarning: In a future version, `df.iloc[:, i] = newvals` will attempt to set the values inplace instead of always setting a new array. To retain the old behavior, use either `df[df.columns[i]] = newvals` or, if columns are non-unique, `df.isetitem(i, newvals)`\n",
      "  df_test.iloc[:, 1] = predicted_power_rescaled\n"
     ]
    },
    {
     "name": "stdout",
     "output_type": "stream",
     "text": [
      "Pen_df4_training.csv\n"
     ]
    },
    {
     "name": "stderr",
     "output_type": "stream",
     "text": [
      "/tmp/ipykernel_29245/898797509.py:5: FutureWarning: In a future version, the Index constructor will not infer numeric dtypes when passed object-dtype sequences (matching Series behavior)\n",
      "  df['month'] = df['time'].dt.month_name()\n",
      "/tmp/ipykernel_29245/1085349368.py:36: DeprecationWarning: In a future version, `df.iloc[:, i] = newvals` will attempt to set the values inplace instead of always setting a new array. To retain the old behavior, use either `df[df.columns[i]] = newvals` or, if columns are non-unique, `df.isetitem(i, newvals)`\n",
      "  df_test.iloc[:, 1] = predicted_power_rescaled\n"
     ]
    },
    {
     "name": "stdout",
     "output_type": "stream",
     "text": [
      "Pen_df11_training.csv\n"
     ]
    },
    {
     "name": "stderr",
     "output_type": "stream",
     "text": [
      "/tmp/ipykernel_29245/898797509.py:5: FutureWarning: In a future version, the Index constructor will not infer numeric dtypes when passed object-dtype sequences (matching Series behavior)\n",
      "  df['month'] = df['time'].dt.month_name()\n",
      "/tmp/ipykernel_29245/1085349368.py:36: DeprecationWarning: In a future version, `df.iloc[:, i] = newvals` will attempt to set the values inplace instead of always setting a new array. To retain the old behavior, use either `df[df.columns[i]] = newvals` or, if columns are non-unique, `df.isetitem(i, newvals)`\n",
      "  df_test.iloc[:, 1] = predicted_power_rescaled\n"
     ]
    },
    {
     "name": "stdout",
     "output_type": "stream",
     "text": [
      "Pen_df5_training.csv\n"
     ]
    },
    {
     "name": "stderr",
     "output_type": "stream",
     "text": [
      "/tmp/ipykernel_29245/898797509.py:5: FutureWarning: In a future version, the Index constructor will not infer numeric dtypes when passed object-dtype sequences (matching Series behavior)\n",
      "  df['month'] = df['time'].dt.month_name()\n",
      "/tmp/ipykernel_29245/1085349368.py:36: DeprecationWarning: In a future version, `df.iloc[:, i] = newvals` will attempt to set the values inplace instead of always setting a new array. To retain the old behavior, use either `df[df.columns[i]] = newvals` or, if columns are non-unique, `df.isetitem(i, newvals)`\n",
      "  df_test.iloc[:, 1] = predicted_power_rescaled\n"
     ]
    },
    {
     "name": "stdout",
     "output_type": "stream",
     "text": [
      "Pen_df10_training.csv\n"
     ]
    },
    {
     "name": "stderr",
     "output_type": "stream",
     "text": [
      "/tmp/ipykernel_29245/898797509.py:5: FutureWarning: In a future version, the Index constructor will not infer numeric dtypes when passed object-dtype sequences (matching Series behavior)\n",
      "  df['month'] = df['time'].dt.month_name()\n",
      "/tmp/ipykernel_29245/1085349368.py:36: DeprecationWarning: In a future version, `df.iloc[:, i] = newvals` will attempt to set the values inplace instead of always setting a new array. To retain the old behavior, use either `df[df.columns[i]] = newvals` or, if columns are non-unique, `df.isetitem(i, newvals)`\n",
      "  df_test.iloc[:, 1] = predicted_power_rescaled\n"
     ]
    },
    {
     "name": "stdout",
     "output_type": "stream",
     "text": [
      "Pen_df12_training.csv\n"
     ]
    },
    {
     "name": "stderr",
     "output_type": "stream",
     "text": [
      "/tmp/ipykernel_29245/898797509.py:5: FutureWarning: In a future version, the Index constructor will not infer numeric dtypes when passed object-dtype sequences (matching Series behavior)\n",
      "  df['month'] = df['time'].dt.month_name()\n",
      "/tmp/ipykernel_29245/1085349368.py:36: DeprecationWarning: In a future version, `df.iloc[:, i] = newvals` will attempt to set the values inplace instead of always setting a new array. To retain the old behavior, use either `df[df.columns[i]] = newvals` or, if columns are non-unique, `df.isetitem(i, newvals)`\n",
      "  df_test.iloc[:, 1] = predicted_power_rescaled\n"
     ]
    },
    {
     "name": "stdout",
     "output_type": "stream",
     "text": [
      "Pen_df2_training.csv\n"
     ]
    },
    {
     "name": "stderr",
     "output_type": "stream",
     "text": [
      "/tmp/ipykernel_29245/898797509.py:5: FutureWarning: In a future version, the Index constructor will not infer numeric dtypes when passed object-dtype sequences (matching Series behavior)\n",
      "  df['month'] = df['time'].dt.month_name()\n",
      "/tmp/ipykernel_29245/1085349368.py:36: DeprecationWarning: In a future version, `df.iloc[:, i] = newvals` will attempt to set the values inplace instead of always setting a new array. To retain the old behavior, use either `df[df.columns[i]] = newvals` or, if columns are non-unique, `df.isetitem(i, newvals)`\n",
      "  df_test.iloc[:, 1] = predicted_power_rescaled\n"
     ]
    },
    {
     "name": "stdout",
     "output_type": "stream",
     "text": [
      "Pen_df9_training.csv\n"
     ]
    },
    {
     "name": "stderr",
     "output_type": "stream",
     "text": [
      "/tmp/ipykernel_29245/898797509.py:5: FutureWarning: In a future version, the Index constructor will not infer numeric dtypes when passed object-dtype sequences (matching Series behavior)\n",
      "  df['month'] = df['time'].dt.month_name()\n",
      "/tmp/ipykernel_29245/1085349368.py:36: DeprecationWarning: In a future version, `df.iloc[:, i] = newvals` will attempt to set the values inplace instead of always setting a new array. To retain the old behavior, use either `df[df.columns[i]] = newvals` or, if columns are non-unique, `df.isetitem(i, newvals)`\n",
      "  df_test.iloc[:, 1] = predicted_power_rescaled\n"
     ]
    },
    {
     "name": "stdout",
     "output_type": "stream",
     "text": [
      "Pen_df7_training.csv\n"
     ]
    },
    {
     "name": "stderr",
     "output_type": "stream",
     "text": [
      "/tmp/ipykernel_29245/898797509.py:5: FutureWarning: In a future version, the Index constructor will not infer numeric dtypes when passed object-dtype sequences (matching Series behavior)\n",
      "  df['month'] = df['time'].dt.month_name()\n",
      "/tmp/ipykernel_29245/1085349368.py:36: DeprecationWarning: In a future version, `df.iloc[:, i] = newvals` will attempt to set the values inplace instead of always setting a new array. To retain the old behavior, use either `df[df.columns[i]] = newvals` or, if columns are non-unique, `df.isetitem(i, newvals)`\n",
      "  df_test.iloc[:, 1] = predicted_power_rescaled\n"
     ]
    },
    {
     "name": "stdout",
     "output_type": "stream",
     "text": [
      "Pen_df6_training.csv\n"
     ]
    },
    {
     "name": "stderr",
     "output_type": "stream",
     "text": [
      "/tmp/ipykernel_29245/898797509.py:5: FutureWarning: In a future version, the Index constructor will not infer numeric dtypes when passed object-dtype sequences (matching Series behavior)\n",
      "  df['month'] = df['time'].dt.month_name()\n",
      "/tmp/ipykernel_29245/1085349368.py:36: DeprecationWarning: In a future version, `df.iloc[:, i] = newvals` will attempt to set the values inplace instead of always setting a new array. To retain the old behavior, use either `df[df.columns[i]] = newvals` or, if columns are non-unique, `df.isetitem(i, newvals)`\n",
      "  df_test.iloc[:, 1] = predicted_power_rescaled\n"
     ]
    }
   ],
   "source": [
    "for file in files:\n",
    "    dataframe_training = generate_dataframe(file)\n",
    "    current_csv_file = file.split(\"/\")[4]\n",
    "    print(current_csv_file)\n",
    "    \n",
    "    dataframe_training = map_time(dataframe_training)    \n",
    "    dataframe_training_scaled = std_scale(dataframe_training, dataframe_training)\n",
    "    x_train, y_train = filter_split_df_input_output(dataframe_training_scaled, column_list_input, column_list_ouput)\n",
    "\n",
    "    \n",
    "    # load the real test data\n",
    "    dataframe_test = pd.DataFrame()\n",
    "    test_file_name = file.replace(\"training\", \"test\")\n",
    "    dataframe_test = generate_dataframe(test_file_name)\n",
    "    dataframe_test = map_time(dataframe_test)  \n",
    "    dataframe_test_scaled = std_scale(dataframe_test[column_list_input], dataframe_training[column_list_input])\n",
    "\n",
    "    y_pred = xgb_regressor(x_train, y_train, dataframe_test_scaled)\n",
    "    predicted_power_rescaled = (y_pred * dataframe_training[column_list_ouput].values.std()) + dataframe_training[column_list_ouput].values.mean()\n",
    "\n",
    "    df_test = pd.read_csv(test_file_name)\n",
    "    # create a numpy array of float32 of shape [None, 1]\n",
    "    # fill the second column with the prediction array\n",
    "    df_test.iloc[:, 1] = predicted_power_rescaled\n",
    "    # save the DataFrame as a new csv file\n",
    "    csv_name = test_file_name.split(\"/\")[4]\n",
    "    prefix = str(id_number) + '_#' + str(Submission_number) + '_'\n",
    "    new_file_name = '/'.join(test_file_name.split(\"/\")[0:4]) + \"/\" + prefix + csv_name\n",
    "    # print(new_file_name)\n",
    "    df_test.to_csv(new_file_name, index=False)\n"
   ]
  },
  {
   "cell_type": "code",
   "execution_count": 22,
   "id": "1bc330b9-43c4-40ed-a811-789e0e64743b",
   "metadata": {},
   "outputs": [],
   "source": [
    "'''\n",
    "This is dbscan with xgb custom loss and all parameters\n",
    "'''\n",
    "\n",
    "# modify the number below accordingly\n",
    "#Participant ID number\n",
    "id_number = 9\n",
    "#Submission Number\n",
    "Submission_number = 3\n",
    "\n",
    "# load all the .csv file in the folder that end with \"training\"\n",
    "# define the file paths of the CSV files \n",
    "path_training = r'../dataset/kelmarsh/training/*training.csv'\n",
    "path2 = r'../dataset/penmanshiel/training/*training.csv'\n",
    "files = glob.glob(path_training)+ glob.glob(path2)\n",
    "# dataframe_training = pd.DataFrame()\n",
    "\n",
    "column_list_input = ['wind_speed', 'wind_speed_sensor1', 'wind_speed_sensor1_SD', 'wind_speed_sensor2', 'wind_speed_sensor2_SD', 'density_adjusted_wind_speed', 'wind_direction', 'nacelle_position', 'wind_direction_SD', 'nacelle_position_SD', 'nacelle_ambient_temperature', 'TI','Day.Night']\n",
    "column_list_ouput = ['power']"
   ]
  },
  {
   "cell_type": "code",
   "execution_count": 23,
   "id": "396a2ee9-bcb4-4efd-813f-5d4e773f2e0c",
   "metadata": {
    "collapsed": true,
    "jupyter": {
     "outputs_hidden": true
    },
    "tags": []
   },
   "outputs": [
    {
     "name": "stdout",
     "output_type": "stream",
     "text": [
      "Kel_df2_training.csv\n",
      "[0]\tvalidation_0-rmse:1.10538\tvalidation_1-rmse:1.10806\n"
     ]
    },
    {
     "name": "stderr",
     "output_type": "stream",
     "text": [
      "/tmp/ipykernel_17353/898797509.py:5: FutureWarning: In a future version, the Index constructor will not infer numeric dtypes when passed object-dtype sequences (matching Series behavior)\n",
      "  df['month'] = df['time'].dt.month_name()\n"
     ]
    },
    {
     "name": "stdout",
     "output_type": "stream",
     "text": [
      "[500]\tvalidation_0-rmse:0.07680\tvalidation_1-rmse:0.07563\n",
      "[1000]\tvalidation_0-rmse:0.07267\tvalidation_1-rmse:0.07162\n",
      "[1500]\tvalidation_0-rmse:0.07053\tvalidation_1-rmse:0.06953\n",
      "[2000]\tvalidation_0-rmse:0.06904\tvalidation_1-rmse:0.06807\n",
      "[2500]\tvalidation_0-rmse:0.06791\tvalidation_1-rmse:0.06699\n",
      "[3000]\tvalidation_0-rmse:0.06699\tvalidation_1-rmse:0.06614\n",
      "[3500]\tvalidation_0-rmse:0.06615\tvalidation_1-rmse:0.06536\n",
      "[4000]\tvalidation_0-rmse:0.06562\tvalidation_1-rmse:0.06490\n",
      "[4500]\tvalidation_0-rmse:0.06512\tvalidation_1-rmse:0.06447\n",
      "[4999]\tvalidation_0-rmse:0.06468\tvalidation_1-rmse:0.06408\n"
     ]
    },
    {
     "name": "stderr",
     "output_type": "stream",
     "text": [
      "/tmp/ipykernel_17353/3725533942.py:39: DeprecationWarning: In a future version, `df.iloc[:, i] = newvals` will attempt to set the values inplace instead of always setting a new array. To retain the old behavior, use either `df[df.columns[i]] = newvals` or, if columns are non-unique, `df.isetitem(i, newvals)`\n",
      "  df_test.iloc[:, 1] = predicted_power_rescaled\n"
     ]
    },
    {
     "name": "stdout",
     "output_type": "stream",
     "text": [
      "Kel_df6_training.csv\n",
      "[0]\tvalidation_0-rmse:1.10518\tvalidation_1-rmse:1.10150\n"
     ]
    },
    {
     "name": "stderr",
     "output_type": "stream",
     "text": [
      "/tmp/ipykernel_17353/898797509.py:5: FutureWarning: In a future version, the Index constructor will not infer numeric dtypes when passed object-dtype sequences (matching Series behavior)\n",
      "  df['month'] = df['time'].dt.month_name()\n"
     ]
    },
    {
     "name": "stdout",
     "output_type": "stream",
     "text": [
      "[500]\tvalidation_0-rmse:0.08417\tvalidation_1-rmse:0.08405\n",
      "[1000]\tvalidation_0-rmse:0.07856\tvalidation_1-rmse:0.07857\n",
      "[1500]\tvalidation_0-rmse:0.07639\tvalidation_1-rmse:0.07627\n",
      "[2000]\tvalidation_0-rmse:0.07476\tvalidation_1-rmse:0.07464\n",
      "[2500]\tvalidation_0-rmse:0.07355\tvalidation_1-rmse:0.07347\n",
      "[3000]\tvalidation_0-rmse:0.07272\tvalidation_1-rmse:0.07267\n",
      "[3500]\tvalidation_0-rmse:0.07191\tvalidation_1-rmse:0.07189\n",
      "[4000]\tvalidation_0-rmse:0.07134\tvalidation_1-rmse:0.07132\n",
      "[4500]\tvalidation_0-rmse:0.07071\tvalidation_1-rmse:0.07072\n",
      "[4999]\tvalidation_0-rmse:0.07024\tvalidation_1-rmse:0.07030\n"
     ]
    },
    {
     "name": "stderr",
     "output_type": "stream",
     "text": [
      "/tmp/ipykernel_17353/3725533942.py:39: DeprecationWarning: In a future version, `df.iloc[:, i] = newvals` will attempt to set the values inplace instead of always setting a new array. To retain the old behavior, use either `df[df.columns[i]] = newvals` or, if columns are non-unique, `df.isetitem(i, newvals)`\n",
      "  df_test.iloc[:, 1] = predicted_power_rescaled\n"
     ]
    },
    {
     "name": "stdout",
     "output_type": "stream",
     "text": [
      "Kel_df4_training.csv\n",
      "[0]\tvalidation_0-rmse:1.10535\tvalidation_1-rmse:1.10723\n"
     ]
    },
    {
     "name": "stderr",
     "output_type": "stream",
     "text": [
      "/tmp/ipykernel_17353/898797509.py:5: FutureWarning: In a future version, the Index constructor will not infer numeric dtypes when passed object-dtype sequences (matching Series behavior)\n",
      "  df['month'] = df['time'].dt.month_name()\n"
     ]
    },
    {
     "name": "stdout",
     "output_type": "stream",
     "text": [
      "[500]\tvalidation_0-rmse:0.07462\tvalidation_1-rmse:0.07385\n",
      "[1000]\tvalidation_0-rmse:0.07048\tvalidation_1-rmse:0.06995\n",
      "[1500]\tvalidation_0-rmse:0.06889\tvalidation_1-rmse:0.06842\n",
      "[2000]\tvalidation_0-rmse:0.06748\tvalidation_1-rmse:0.06704\n",
      "[2500]\tvalidation_0-rmse:0.06622\tvalidation_1-rmse:0.06570\n",
      "[3000]\tvalidation_0-rmse:0.06518\tvalidation_1-rmse:0.06465\n",
      "[3500]\tvalidation_0-rmse:0.06441\tvalidation_1-rmse:0.06385\n",
      "[4000]\tvalidation_0-rmse:0.06378\tvalidation_1-rmse:0.06322\n",
      "[4500]\tvalidation_0-rmse:0.06330\tvalidation_1-rmse:0.06276\n",
      "[4999]\tvalidation_0-rmse:0.06285\tvalidation_1-rmse:0.06230\n"
     ]
    },
    {
     "name": "stderr",
     "output_type": "stream",
     "text": [
      "/tmp/ipykernel_17353/3725533942.py:39: DeprecationWarning: In a future version, `df.iloc[:, i] = newvals` will attempt to set the values inplace instead of always setting a new array. To retain the old behavior, use either `df[df.columns[i]] = newvals` or, if columns are non-unique, `df.isetitem(i, newvals)`\n",
      "  df_test.iloc[:, 1] = predicted_power_rescaled\n"
     ]
    },
    {
     "name": "stdout",
     "output_type": "stream",
     "text": [
      "Kel_df1_training.csv\n",
      "[0]\tvalidation_0-rmse:1.10525\tvalidation_1-rmse:1.10619\n"
     ]
    },
    {
     "name": "stderr",
     "output_type": "stream",
     "text": [
      "/tmp/ipykernel_17353/898797509.py:5: FutureWarning: In a future version, the Index constructor will not infer numeric dtypes when passed object-dtype sequences (matching Series behavior)\n",
      "  df['month'] = df['time'].dt.month_name()\n"
     ]
    },
    {
     "name": "stdout",
     "output_type": "stream",
     "text": [
      "[500]\tvalidation_0-rmse:0.07526\tvalidation_1-rmse:0.07412\n",
      "[1000]\tvalidation_0-rmse:0.07093\tvalidation_1-rmse:0.06961\n",
      "[1500]\tvalidation_0-rmse:0.06931\tvalidation_1-rmse:0.06799\n",
      "[2000]\tvalidation_0-rmse:0.06811\tvalidation_1-rmse:0.06681\n",
      "[2500]\tvalidation_0-rmse:0.06714\tvalidation_1-rmse:0.06585\n",
      "[3000]\tvalidation_0-rmse:0.06650\tvalidation_1-rmse:0.06526\n",
      "[3500]\tvalidation_0-rmse:0.06584\tvalidation_1-rmse:0.06464\n",
      "[4000]\tvalidation_0-rmse:0.06528\tvalidation_1-rmse:0.06411\n",
      "[4500]\tvalidation_0-rmse:0.06479\tvalidation_1-rmse:0.06367\n",
      "[4999]\tvalidation_0-rmse:0.06440\tvalidation_1-rmse:0.06331\n"
     ]
    },
    {
     "name": "stderr",
     "output_type": "stream",
     "text": [
      "/tmp/ipykernel_17353/3725533942.py:39: DeprecationWarning: In a future version, `df.iloc[:, i] = newvals` will attempt to set the values inplace instead of always setting a new array. To retain the old behavior, use either `df[df.columns[i]] = newvals` or, if columns are non-unique, `df.isetitem(i, newvals)`\n",
      "  df_test.iloc[:, 1] = predicted_power_rescaled\n"
     ]
    },
    {
     "name": "stdout",
     "output_type": "stream",
     "text": [
      "Kel_df5_training.csv\n",
      "[0]\tvalidation_0-rmse:1.10532\tvalidation_1-rmse:1.10419\n"
     ]
    },
    {
     "name": "stderr",
     "output_type": "stream",
     "text": [
      "/tmp/ipykernel_17353/898797509.py:5: FutureWarning: In a future version, the Index constructor will not infer numeric dtypes when passed object-dtype sequences (matching Series behavior)\n",
      "  df['month'] = df['time'].dt.month_name()\n"
     ]
    },
    {
     "name": "stdout",
     "output_type": "stream",
     "text": [
      "[500]\tvalidation_0-rmse:0.07853\tvalidation_1-rmse:0.07708\n",
      "[1000]\tvalidation_0-rmse:0.07350\tvalidation_1-rmse:0.07244\n",
      "[1500]\tvalidation_0-rmse:0.07141\tvalidation_1-rmse:0.07069\n",
      "[2000]\tvalidation_0-rmse:0.07011\tvalidation_1-rmse:0.06958\n",
      "[2500]\tvalidation_0-rmse:0.06905\tvalidation_1-rmse:0.06858\n",
      "[3000]\tvalidation_0-rmse:0.06821\tvalidation_1-rmse:0.06781\n",
      "[3500]\tvalidation_0-rmse:0.06762\tvalidation_1-rmse:0.06726\n",
      "[4000]\tvalidation_0-rmse:0.06713\tvalidation_1-rmse:0.06677\n",
      "[4500]\tvalidation_0-rmse:0.06668\tvalidation_1-rmse:0.06633\n",
      "[4999]\tvalidation_0-rmse:0.06623\tvalidation_1-rmse:0.06588\n"
     ]
    },
    {
     "name": "stderr",
     "output_type": "stream",
     "text": [
      "/tmp/ipykernel_17353/3725533942.py:39: DeprecationWarning: In a future version, `df.iloc[:, i] = newvals` will attempt to set the values inplace instead of always setting a new array. To retain the old behavior, use either `df[df.columns[i]] = newvals` or, if columns are non-unique, `df.isetitem(i, newvals)`\n",
      "  df_test.iloc[:, 1] = predicted_power_rescaled\n"
     ]
    },
    {
     "name": "stdout",
     "output_type": "stream",
     "text": [
      "Kel_df3_training.csv\n",
      "[0]\tvalidation_0-rmse:1.10532\tvalidation_1-rmse:1.11021\n"
     ]
    },
    {
     "name": "stderr",
     "output_type": "stream",
     "text": [
      "/tmp/ipykernel_17353/898797509.py:5: FutureWarning: In a future version, the Index constructor will not infer numeric dtypes when passed object-dtype sequences (matching Series behavior)\n",
      "  df['month'] = df['time'].dt.month_name()\n"
     ]
    },
    {
     "name": "stdout",
     "output_type": "stream",
     "text": [
      "[500]\tvalidation_0-rmse:0.08581\tvalidation_1-rmse:0.08442\n",
      "[1000]\tvalidation_0-rmse:0.08021\tvalidation_1-rmse:0.07887\n",
      "[1500]\tvalidation_0-rmse:0.07800\tvalidation_1-rmse:0.07650\n",
      "[2000]\tvalidation_0-rmse:0.07661\tvalidation_1-rmse:0.07502\n",
      "[2500]\tvalidation_0-rmse:0.07525\tvalidation_1-rmse:0.07363\n",
      "[3000]\tvalidation_0-rmse:0.07422\tvalidation_1-rmse:0.07258\n",
      "[3500]\tvalidation_0-rmse:0.07326\tvalidation_1-rmse:0.07159\n",
      "[4000]\tvalidation_0-rmse:0.07248\tvalidation_1-rmse:0.07083\n",
      "[4500]\tvalidation_0-rmse:0.07185\tvalidation_1-rmse:0.07023\n",
      "[4999]\tvalidation_0-rmse:0.07125\tvalidation_1-rmse:0.06966\n"
     ]
    },
    {
     "name": "stderr",
     "output_type": "stream",
     "text": [
      "/tmp/ipykernel_17353/3725533942.py:39: DeprecationWarning: In a future version, `df.iloc[:, i] = newvals` will attempt to set the values inplace instead of always setting a new array. To retain the old behavior, use either `df[df.columns[i]] = newvals` or, if columns are non-unique, `df.isetitem(i, newvals)`\n",
      "  df_test.iloc[:, 1] = predicted_power_rescaled\n"
     ]
    },
    {
     "name": "stdout",
     "output_type": "stream",
     "text": [
      "Pen_df13_training.csv\n",
      "[0]\tvalidation_0-rmse:1.10581\tvalidation_1-rmse:1.11128\n"
     ]
    },
    {
     "name": "stderr",
     "output_type": "stream",
     "text": [
      "/tmp/ipykernel_17353/898797509.py:5: FutureWarning: In a future version, the Index constructor will not infer numeric dtypes when passed object-dtype sequences (matching Series behavior)\n",
      "  df['month'] = df['time'].dt.month_name()\n"
     ]
    },
    {
     "name": "stdout",
     "output_type": "stream",
     "text": [
      "[500]\tvalidation_0-rmse:0.05714\tvalidation_1-rmse:0.05580\n",
      "[1000]\tvalidation_0-rmse:0.05281\tvalidation_1-rmse:0.05168\n",
      "[1500]\tvalidation_0-rmse:0.05185\tvalidation_1-rmse:0.05083\n",
      "[2000]\tvalidation_0-rmse:0.05113\tvalidation_1-rmse:0.05019\n",
      "[2500]\tvalidation_0-rmse:0.05050\tvalidation_1-rmse:0.04954\n",
      "[3000]\tvalidation_0-rmse:0.04988\tvalidation_1-rmse:0.04892\n",
      "[3500]\tvalidation_0-rmse:0.04927\tvalidation_1-rmse:0.04833\n",
      "[4000]\tvalidation_0-rmse:0.04873\tvalidation_1-rmse:0.04779\n",
      "[4500]\tvalidation_0-rmse:0.04824\tvalidation_1-rmse:0.04735\n",
      "[4999]\tvalidation_0-rmse:0.04786\tvalidation_1-rmse:0.04702\n"
     ]
    },
    {
     "name": "stderr",
     "output_type": "stream",
     "text": [
      "/tmp/ipykernel_17353/3725533942.py:39: DeprecationWarning: In a future version, `df.iloc[:, i] = newvals` will attempt to set the values inplace instead of always setting a new array. To retain the old behavior, use either `df[df.columns[i]] = newvals` or, if columns are non-unique, `df.isetitem(i, newvals)`\n",
      "  df_test.iloc[:, 1] = predicted_power_rescaled\n"
     ]
    },
    {
     "name": "stdout",
     "output_type": "stream",
     "text": [
      "Pen_df8_training.csv\n",
      "[0]\tvalidation_0-rmse:1.10558\tvalidation_1-rmse:1.10701\n"
     ]
    },
    {
     "name": "stderr",
     "output_type": "stream",
     "text": [
      "/tmp/ipykernel_17353/898797509.py:5: FutureWarning: In a future version, the Index constructor will not infer numeric dtypes when passed object-dtype sequences (matching Series behavior)\n",
      "  df['month'] = df['time'].dt.month_name()\n"
     ]
    },
    {
     "name": "stdout",
     "output_type": "stream",
     "text": [
      "[500]\tvalidation_0-rmse:0.05930\tvalidation_1-rmse:0.05928\n",
      "[1000]\tvalidation_0-rmse:0.05523\tvalidation_1-rmse:0.05548\n",
      "[1500]\tvalidation_0-rmse:0.05420\tvalidation_1-rmse:0.05458\n",
      "[2000]\tvalidation_0-rmse:0.05333\tvalidation_1-rmse:0.05376\n",
      "[2500]\tvalidation_0-rmse:0.05263\tvalidation_1-rmse:0.05303\n",
      "[3000]\tvalidation_0-rmse:0.05200\tvalidation_1-rmse:0.05228\n",
      "[3500]\tvalidation_0-rmse:0.05142\tvalidation_1-rmse:0.05161\n",
      "[4000]\tvalidation_0-rmse:0.05089\tvalidation_1-rmse:0.05103\n",
      "[4500]\tvalidation_0-rmse:0.05047\tvalidation_1-rmse:0.05057\n",
      "[4999]\tvalidation_0-rmse:0.05004\tvalidation_1-rmse:0.05013\n"
     ]
    },
    {
     "name": "stderr",
     "output_type": "stream",
     "text": [
      "/tmp/ipykernel_17353/3725533942.py:39: DeprecationWarning: In a future version, `df.iloc[:, i] = newvals` will attempt to set the values inplace instead of always setting a new array. To retain the old behavior, use either `df[df.columns[i]] = newvals` or, if columns are non-unique, `df.isetitem(i, newvals)`\n",
      "  df_test.iloc[:, 1] = predicted_power_rescaled\n"
     ]
    },
    {
     "name": "stdout",
     "output_type": "stream",
     "text": [
      "Pen_df15_training.csv\n",
      "[0]\tvalidation_0-rmse:1.10575\tvalidation_1-rmse:1.11728\n"
     ]
    },
    {
     "name": "stderr",
     "output_type": "stream",
     "text": [
      "/tmp/ipykernel_17353/898797509.py:5: FutureWarning: In a future version, the Index constructor will not infer numeric dtypes when passed object-dtype sequences (matching Series behavior)\n",
      "  df['month'] = df['time'].dt.month_name()\n"
     ]
    },
    {
     "name": "stdout",
     "output_type": "stream",
     "text": [
      "[500]\tvalidation_0-rmse:0.06938\tvalidation_1-rmse:0.06834\n",
      "[1000]\tvalidation_0-rmse:0.06456\tvalidation_1-rmse:0.06375\n",
      "[1500]\tvalidation_0-rmse:0.06261\tvalidation_1-rmse:0.06196\n",
      "[2000]\tvalidation_0-rmse:0.06113\tvalidation_1-rmse:0.06060\n",
      "[2500]\tvalidation_0-rmse:0.05990\tvalidation_1-rmse:0.05954\n",
      "[3000]\tvalidation_0-rmse:0.05902\tvalidation_1-rmse:0.05874\n",
      "[3500]\tvalidation_0-rmse:0.05816\tvalidation_1-rmse:0.05797\n",
      "[4000]\tvalidation_0-rmse:0.05743\tvalidation_1-rmse:0.05727\n",
      "[4500]\tvalidation_0-rmse:0.05676\tvalidation_1-rmse:0.05669\n",
      "[4999]\tvalidation_0-rmse:0.05617\tvalidation_1-rmse:0.05616\n"
     ]
    },
    {
     "name": "stderr",
     "output_type": "stream",
     "text": [
      "/tmp/ipykernel_17353/3725533942.py:39: DeprecationWarning: In a future version, `df.iloc[:, i] = newvals` will attempt to set the values inplace instead of always setting a new array. To retain the old behavior, use either `df[df.columns[i]] = newvals` or, if columns are non-unique, `df.isetitem(i, newvals)`\n",
      "  df_test.iloc[:, 1] = predicted_power_rescaled\n"
     ]
    },
    {
     "name": "stdout",
     "output_type": "stream",
     "text": [
      "Pen_df14_training.csv\n",
      "[0]\tvalidation_0-rmse:1.10572\tvalidation_1-rmse:1.11112\n"
     ]
    },
    {
     "name": "stderr",
     "output_type": "stream",
     "text": [
      "/tmp/ipykernel_17353/898797509.py:5: FutureWarning: In a future version, the Index constructor will not infer numeric dtypes when passed object-dtype sequences (matching Series behavior)\n",
      "  df['month'] = df['time'].dt.month_name()\n"
     ]
    },
    {
     "name": "stdout",
     "output_type": "stream",
     "text": [
      "[500]\tvalidation_0-rmse:0.06209\tvalidation_1-rmse:0.06153\n",
      "[1000]\tvalidation_0-rmse:0.05754\tvalidation_1-rmse:0.05677\n",
      "[1500]\tvalidation_0-rmse:0.05585\tvalidation_1-rmse:0.05508\n",
      "[2000]\tvalidation_0-rmse:0.05461\tvalidation_1-rmse:0.05387\n",
      "[2500]\tvalidation_0-rmse:0.05377\tvalidation_1-rmse:0.05307\n",
      "[3000]\tvalidation_0-rmse:0.05305\tvalidation_1-rmse:0.05242\n",
      "[3500]\tvalidation_0-rmse:0.05245\tvalidation_1-rmse:0.05185\n",
      "[4000]\tvalidation_0-rmse:0.05189\tvalidation_1-rmse:0.05136\n",
      "[4500]\tvalidation_0-rmse:0.05141\tvalidation_1-rmse:0.05094\n",
      "[4999]\tvalidation_0-rmse:0.05096\tvalidation_1-rmse:0.05056\n"
     ]
    },
    {
     "name": "stderr",
     "output_type": "stream",
     "text": [
      "/tmp/ipykernel_17353/3725533942.py:39: DeprecationWarning: In a future version, `df.iloc[:, i] = newvals` will attempt to set the values inplace instead of always setting a new array. To retain the old behavior, use either `df[df.columns[i]] = newvals` or, if columns are non-unique, `df.isetitem(i, newvals)`\n",
      "  df_test.iloc[:, 1] = predicted_power_rescaled\n"
     ]
    },
    {
     "name": "stdout",
     "output_type": "stream",
     "text": [
      "Pen_df1_training.csv\n",
      "[0]\tvalidation_0-rmse:1.10541\tvalidation_1-rmse:1.11497\n"
     ]
    },
    {
     "name": "stderr",
     "output_type": "stream",
     "text": [
      "/tmp/ipykernel_17353/898797509.py:5: FutureWarning: In a future version, the Index constructor will not infer numeric dtypes when passed object-dtype sequences (matching Series behavior)\n",
      "  df['month'] = df['time'].dt.month_name()\n"
     ]
    },
    {
     "name": "stdout",
     "output_type": "stream",
     "text": [
      "[500]\tvalidation_0-rmse:0.06028\tvalidation_1-rmse:0.05767\n",
      "[1000]\tvalidation_0-rmse:0.05560\tvalidation_1-rmse:0.05324\n",
      "[1500]\tvalidation_0-rmse:0.05429\tvalidation_1-rmse:0.05212\n",
      "[2000]\tvalidation_0-rmse:0.05337\tvalidation_1-rmse:0.05126\n",
      "[2500]\tvalidation_0-rmse:0.05248\tvalidation_1-rmse:0.05041\n",
      "[3000]\tvalidation_0-rmse:0.05177\tvalidation_1-rmse:0.04975\n",
      "[3500]\tvalidation_0-rmse:0.05114\tvalidation_1-rmse:0.04918\n",
      "[4000]\tvalidation_0-rmse:0.05053\tvalidation_1-rmse:0.04865\n",
      "[4500]\tvalidation_0-rmse:0.05000\tvalidation_1-rmse:0.04818\n",
      "[4999]\tvalidation_0-rmse:0.04955\tvalidation_1-rmse:0.04779\n"
     ]
    },
    {
     "name": "stderr",
     "output_type": "stream",
     "text": [
      "/tmp/ipykernel_17353/3725533942.py:39: DeprecationWarning: In a future version, `df.iloc[:, i] = newvals` will attempt to set the values inplace instead of always setting a new array. To retain the old behavior, use either `df[df.columns[i]] = newvals` or, if columns are non-unique, `df.isetitem(i, newvals)`\n",
      "  df_test.iloc[:, 1] = predicted_power_rescaled\n"
     ]
    },
    {
     "name": "stdout",
     "output_type": "stream",
     "text": [
      "Pen_df4_training.csv\n",
      "[0]\tvalidation_0-rmse:1.10553\tvalidation_1-rmse:1.10638\n"
     ]
    },
    {
     "name": "stderr",
     "output_type": "stream",
     "text": [
      "/tmp/ipykernel_17353/898797509.py:5: FutureWarning: In a future version, the Index constructor will not infer numeric dtypes when passed object-dtype sequences (matching Series behavior)\n",
      "  df['month'] = df['time'].dt.month_name()\n"
     ]
    },
    {
     "name": "stdout",
     "output_type": "stream",
     "text": [
      "[500]\tvalidation_0-rmse:0.05959\tvalidation_1-rmse:0.05889\n",
      "[1000]\tvalidation_0-rmse:0.05504\tvalidation_1-rmse:0.05434\n",
      "[1500]\tvalidation_0-rmse:0.05379\tvalidation_1-rmse:0.05316\n",
      "[2000]\tvalidation_0-rmse:0.05288\tvalidation_1-rmse:0.05228\n",
      "[2500]\tvalidation_0-rmse:0.05216\tvalidation_1-rmse:0.05161\n",
      "[3000]\tvalidation_0-rmse:0.05156\tvalidation_1-rmse:0.05106\n",
      "[3500]\tvalidation_0-rmse:0.05100\tvalidation_1-rmse:0.05051\n",
      "[4000]\tvalidation_0-rmse:0.05052\tvalidation_1-rmse:0.05005\n",
      "[4500]\tvalidation_0-rmse:0.05008\tvalidation_1-rmse:0.04964\n",
      "[4999]\tvalidation_0-rmse:0.04969\tvalidation_1-rmse:0.04927\n"
     ]
    },
    {
     "name": "stderr",
     "output_type": "stream",
     "text": [
      "/tmp/ipykernel_17353/3725533942.py:39: DeprecationWarning: In a future version, `df.iloc[:, i] = newvals` will attempt to set the values inplace instead of always setting a new array. To retain the old behavior, use either `df[df.columns[i]] = newvals` or, if columns are non-unique, `df.isetitem(i, newvals)`\n",
      "  df_test.iloc[:, 1] = predicted_power_rescaled\n"
     ]
    },
    {
     "name": "stdout",
     "output_type": "stream",
     "text": [
      "Pen_df11_training.csv\n",
      "[0]\tvalidation_0-rmse:1.10585\tvalidation_1-rmse:1.11292\n"
     ]
    },
    {
     "name": "stderr",
     "output_type": "stream",
     "text": [
      "/tmp/ipykernel_17353/898797509.py:5: FutureWarning: In a future version, the Index constructor will not infer numeric dtypes when passed object-dtype sequences (matching Series behavior)\n",
      "  df['month'] = df['time'].dt.month_name()\n"
     ]
    },
    {
     "name": "stdout",
     "output_type": "stream",
     "text": [
      "[500]\tvalidation_0-rmse:0.06039\tvalidation_1-rmse:0.05836\n",
      "[1000]\tvalidation_0-rmse:0.05568\tvalidation_1-rmse:0.05381\n",
      "[1500]\tvalidation_0-rmse:0.05430\tvalidation_1-rmse:0.05260\n",
      "[2000]\tvalidation_0-rmse:0.05328\tvalidation_1-rmse:0.05167\n",
      "[2500]\tvalidation_0-rmse:0.05250\tvalidation_1-rmse:0.05096\n",
      "[3000]\tvalidation_0-rmse:0.05172\tvalidation_1-rmse:0.05022\n",
      "[3500]\tvalidation_0-rmse:0.05104\tvalidation_1-rmse:0.04961\n",
      "[4000]\tvalidation_0-rmse:0.05034\tvalidation_1-rmse:0.04897\n",
      "[4500]\tvalidation_0-rmse:0.04974\tvalidation_1-rmse:0.04840\n",
      "[4999]\tvalidation_0-rmse:0.04920\tvalidation_1-rmse:0.04791\n"
     ]
    },
    {
     "name": "stderr",
     "output_type": "stream",
     "text": [
      "/tmp/ipykernel_17353/3725533942.py:39: DeprecationWarning: In a future version, `df.iloc[:, i] = newvals` will attempt to set the values inplace instead of always setting a new array. To retain the old behavior, use either `df[df.columns[i]] = newvals` or, if columns are non-unique, `df.isetitem(i, newvals)`\n",
      "  df_test.iloc[:, 1] = predicted_power_rescaled\n"
     ]
    },
    {
     "name": "stdout",
     "output_type": "stream",
     "text": [
      "Pen_df5_training.csv\n",
      "[0]\tvalidation_0-rmse:1.10564\tvalidation_1-rmse:1.10921\n"
     ]
    },
    {
     "name": "stderr",
     "output_type": "stream",
     "text": [
      "/tmp/ipykernel_17353/898797509.py:5: FutureWarning: In a future version, the Index constructor will not infer numeric dtypes when passed object-dtype sequences (matching Series behavior)\n",
      "  df['month'] = df['time'].dt.month_name()\n"
     ]
    },
    {
     "name": "stdout",
     "output_type": "stream",
     "text": [
      "[500]\tvalidation_0-rmse:0.06068\tvalidation_1-rmse:0.06002\n",
      "[1000]\tvalidation_0-rmse:0.05612\tvalidation_1-rmse:0.05549\n",
      "[1500]\tvalidation_0-rmse:0.05471\tvalidation_1-rmse:0.05409\n",
      "[2000]\tvalidation_0-rmse:0.05376\tvalidation_1-rmse:0.05317\n",
      "[2500]\tvalidation_0-rmse:0.05308\tvalidation_1-rmse:0.05249\n",
      "[3000]\tvalidation_0-rmse:0.05253\tvalidation_1-rmse:0.05194\n",
      "[3500]\tvalidation_0-rmse:0.05199\tvalidation_1-rmse:0.05142\n",
      "[4000]\tvalidation_0-rmse:0.05149\tvalidation_1-rmse:0.05091\n",
      "[4500]\tvalidation_0-rmse:0.05103\tvalidation_1-rmse:0.05044\n",
      "[4999]\tvalidation_0-rmse:0.05063\tvalidation_1-rmse:0.05003\n"
     ]
    },
    {
     "name": "stderr",
     "output_type": "stream",
     "text": [
      "/tmp/ipykernel_17353/3725533942.py:39: DeprecationWarning: In a future version, `df.iloc[:, i] = newvals` will attempt to set the values inplace instead of always setting a new array. To retain the old behavior, use either `df[df.columns[i]] = newvals` or, if columns are non-unique, `df.isetitem(i, newvals)`\n",
      "  df_test.iloc[:, 1] = predicted_power_rescaled\n"
     ]
    },
    {
     "name": "stdout",
     "output_type": "stream",
     "text": [
      "Pen_df10_training.csv\n",
      "[0]\tvalidation_0-rmse:1.10585\tvalidation_1-rmse:1.10076\n"
     ]
    },
    {
     "name": "stderr",
     "output_type": "stream",
     "text": [
      "/tmp/ipykernel_17353/898797509.py:5: FutureWarning: In a future version, the Index constructor will not infer numeric dtypes when passed object-dtype sequences (matching Series behavior)\n",
      "  df['month'] = df['time'].dt.month_name()\n"
     ]
    },
    {
     "name": "stdout",
     "output_type": "stream",
     "text": [
      "[500]\tvalidation_0-rmse:0.06335\tvalidation_1-rmse:0.06459\n",
      "[1000]\tvalidation_0-rmse:0.05838\tvalidation_1-rmse:0.05911\n",
      "[1500]\tvalidation_0-rmse:0.05683\tvalidation_1-rmse:0.05747\n",
      "[2000]\tvalidation_0-rmse:0.05575\tvalidation_1-rmse:0.05634\n",
      "[2500]\tvalidation_0-rmse:0.05477\tvalidation_1-rmse:0.05531\n",
      "[3000]\tvalidation_0-rmse:0.05410\tvalidation_1-rmse:0.05460\n",
      "[3500]\tvalidation_0-rmse:0.05348\tvalidation_1-rmse:0.05395\n",
      "[4000]\tvalidation_0-rmse:0.05299\tvalidation_1-rmse:0.05343\n",
      "[4500]\tvalidation_0-rmse:0.05248\tvalidation_1-rmse:0.05289\n",
      "[4999]\tvalidation_0-rmse:0.05202\tvalidation_1-rmse:0.05241\n"
     ]
    },
    {
     "name": "stderr",
     "output_type": "stream",
     "text": [
      "/tmp/ipykernel_17353/3725533942.py:39: DeprecationWarning: In a future version, `df.iloc[:, i] = newvals` will attempt to set the values inplace instead of always setting a new array. To retain the old behavior, use either `df[df.columns[i]] = newvals` or, if columns are non-unique, `df.isetitem(i, newvals)`\n",
      "  df_test.iloc[:, 1] = predicted_power_rescaled\n"
     ]
    },
    {
     "name": "stdout",
     "output_type": "stream",
     "text": [
      "Pen_df12_training.csv\n",
      "[0]\tvalidation_0-rmse:1.10571\tvalidation_1-rmse:1.10942\n"
     ]
    },
    {
     "name": "stderr",
     "output_type": "stream",
     "text": [
      "/tmp/ipykernel_17353/898797509.py:5: FutureWarning: In a future version, the Index constructor will not infer numeric dtypes when passed object-dtype sequences (matching Series behavior)\n",
      "  df['month'] = df['time'].dt.month_name()\n"
     ]
    },
    {
     "name": "stdout",
     "output_type": "stream",
     "text": [
      "[500]\tvalidation_0-rmse:0.06412\tvalidation_1-rmse:0.06396\n",
      "[1000]\tvalidation_0-rmse:0.05896\tvalidation_1-rmse:0.05840\n",
      "[1500]\tvalidation_0-rmse:0.05770\tvalidation_1-rmse:0.05710\n",
      "[2000]\tvalidation_0-rmse:0.05663\tvalidation_1-rmse:0.05605\n",
      "[2500]\tvalidation_0-rmse:0.05575\tvalidation_1-rmse:0.05517\n",
      "[3000]\tvalidation_0-rmse:0.05503\tvalidation_1-rmse:0.05447\n",
      "[3500]\tvalidation_0-rmse:0.05442\tvalidation_1-rmse:0.05393\n",
      "[4000]\tvalidation_0-rmse:0.05392\tvalidation_1-rmse:0.05344\n",
      "[4500]\tvalidation_0-rmse:0.05343\tvalidation_1-rmse:0.05297\n",
      "[4999]\tvalidation_0-rmse:0.05300\tvalidation_1-rmse:0.05254\n"
     ]
    },
    {
     "name": "stderr",
     "output_type": "stream",
     "text": [
      "/tmp/ipykernel_17353/3725533942.py:39: DeprecationWarning: In a future version, `df.iloc[:, i] = newvals` will attempt to set the values inplace instead of always setting a new array. To retain the old behavior, use either `df[df.columns[i]] = newvals` or, if columns are non-unique, `df.isetitem(i, newvals)`\n",
      "  df_test.iloc[:, 1] = predicted_power_rescaled\n"
     ]
    },
    {
     "name": "stdout",
     "output_type": "stream",
     "text": [
      "Pen_df2_training.csv\n",
      "[0]\tvalidation_0-rmse:1.10567\tvalidation_1-rmse:1.10480\n"
     ]
    },
    {
     "name": "stderr",
     "output_type": "stream",
     "text": [
      "/tmp/ipykernel_17353/898797509.py:5: FutureWarning: In a future version, the Index constructor will not infer numeric dtypes when passed object-dtype sequences (matching Series behavior)\n",
      "  df['month'] = df['time'].dt.month_name()\n"
     ]
    },
    {
     "name": "stdout",
     "output_type": "stream",
     "text": [
      "[500]\tvalidation_0-rmse:0.06338\tvalidation_1-rmse:0.06374\n",
      "[1000]\tvalidation_0-rmse:0.05875\tvalidation_1-rmse:0.05880\n",
      "[1500]\tvalidation_0-rmse:0.05731\tvalidation_1-rmse:0.05721\n",
      "[2000]\tvalidation_0-rmse:0.05593\tvalidation_1-rmse:0.05575\n",
      "[2500]\tvalidation_0-rmse:0.05482\tvalidation_1-rmse:0.05459\n",
      "[3000]\tvalidation_0-rmse:0.05397\tvalidation_1-rmse:0.05375\n",
      "[3500]\tvalidation_0-rmse:0.05333\tvalidation_1-rmse:0.05308\n",
      "[4000]\tvalidation_0-rmse:0.05268\tvalidation_1-rmse:0.05240\n",
      "[4500]\tvalidation_0-rmse:0.05213\tvalidation_1-rmse:0.05185\n",
      "[4999]\tvalidation_0-rmse:0.05157\tvalidation_1-rmse:0.05128\n"
     ]
    },
    {
     "name": "stderr",
     "output_type": "stream",
     "text": [
      "/tmp/ipykernel_17353/3725533942.py:39: DeprecationWarning: In a future version, `df.iloc[:, i] = newvals` will attempt to set the values inplace instead of always setting a new array. To retain the old behavior, use either `df[df.columns[i]] = newvals` or, if columns are non-unique, `df.isetitem(i, newvals)`\n",
      "  df_test.iloc[:, 1] = predicted_power_rescaled\n"
     ]
    },
    {
     "name": "stdout",
     "output_type": "stream",
     "text": [
      "Pen_df9_training.csv\n",
      "[0]\tvalidation_0-rmse:1.10557\tvalidation_1-rmse:1.10578\n"
     ]
    },
    {
     "name": "stderr",
     "output_type": "stream",
     "text": [
      "/tmp/ipykernel_17353/898797509.py:5: FutureWarning: In a future version, the Index constructor will not infer numeric dtypes when passed object-dtype sequences (matching Series behavior)\n",
      "  df['month'] = df['time'].dt.month_name()\n"
     ]
    },
    {
     "name": "stdout",
     "output_type": "stream",
     "text": [
      "[500]\tvalidation_0-rmse:0.06204\tvalidation_1-rmse:0.06238\n",
      "[1000]\tvalidation_0-rmse:0.05723\tvalidation_1-rmse:0.05730\n",
      "[1500]\tvalidation_0-rmse:0.05573\tvalidation_1-rmse:0.05559\n",
      "[2000]\tvalidation_0-rmse:0.05467\tvalidation_1-rmse:0.05451\n",
      "[2500]\tvalidation_0-rmse:0.05392\tvalidation_1-rmse:0.05377\n",
      "[3000]\tvalidation_0-rmse:0.05325\tvalidation_1-rmse:0.05306\n",
      "[3500]\tvalidation_0-rmse:0.05266\tvalidation_1-rmse:0.05248\n",
      "[4000]\tvalidation_0-rmse:0.05215\tvalidation_1-rmse:0.05197\n",
      "[4500]\tvalidation_0-rmse:0.05169\tvalidation_1-rmse:0.05147\n",
      "[4999]\tvalidation_0-rmse:0.05122\tvalidation_1-rmse:0.05102\n"
     ]
    },
    {
     "name": "stderr",
     "output_type": "stream",
     "text": [
      "/tmp/ipykernel_17353/3725533942.py:39: DeprecationWarning: In a future version, `df.iloc[:, i] = newvals` will attempt to set the values inplace instead of always setting a new array. To retain the old behavior, use either `df[df.columns[i]] = newvals` or, if columns are non-unique, `df.isetitem(i, newvals)`\n",
      "  df_test.iloc[:, 1] = predicted_power_rescaled\n"
     ]
    },
    {
     "name": "stdout",
     "output_type": "stream",
     "text": [
      "Pen_df7_training.csv\n",
      "[0]\tvalidation_0-rmse:1.10561\tvalidation_1-rmse:1.11270\n"
     ]
    },
    {
     "name": "stderr",
     "output_type": "stream",
     "text": [
      "/tmp/ipykernel_17353/898797509.py:5: FutureWarning: In a future version, the Index constructor will not infer numeric dtypes when passed object-dtype sequences (matching Series behavior)\n",
      "  df['month'] = df['time'].dt.month_name()\n"
     ]
    },
    {
     "name": "stdout",
     "output_type": "stream",
     "text": [
      "[500]\tvalidation_0-rmse:0.06310\tvalidation_1-rmse:0.06271\n",
      "[1000]\tvalidation_0-rmse:0.05849\tvalidation_1-rmse:0.05814\n",
      "[1500]\tvalidation_0-rmse:0.05712\tvalidation_1-rmse:0.05685\n",
      "[2000]\tvalidation_0-rmse:0.05602\tvalidation_1-rmse:0.05572\n",
      "[2500]\tvalidation_0-rmse:0.05503\tvalidation_1-rmse:0.05471\n",
      "[3000]\tvalidation_0-rmse:0.05427\tvalidation_1-rmse:0.05394\n",
      "[3500]\tvalidation_0-rmse:0.05361\tvalidation_1-rmse:0.05326\n",
      "[4000]\tvalidation_0-rmse:0.05309\tvalidation_1-rmse:0.05274\n",
      "[4500]\tvalidation_0-rmse:0.05256\tvalidation_1-rmse:0.05225\n",
      "[4999]\tvalidation_0-rmse:0.05211\tvalidation_1-rmse:0.05183\n"
     ]
    },
    {
     "name": "stderr",
     "output_type": "stream",
     "text": [
      "/tmp/ipykernel_17353/3725533942.py:39: DeprecationWarning: In a future version, `df.iloc[:, i] = newvals` will attempt to set the values inplace instead of always setting a new array. To retain the old behavior, use either `df[df.columns[i]] = newvals` or, if columns are non-unique, `df.isetitem(i, newvals)`\n",
      "  df_test.iloc[:, 1] = predicted_power_rescaled\n"
     ]
    },
    {
     "name": "stdout",
     "output_type": "stream",
     "text": [
      "Pen_df6_training.csv\n",
      "[0]\tvalidation_0-rmse:1.10561\tvalidation_1-rmse:1.10318\n"
     ]
    },
    {
     "name": "stderr",
     "output_type": "stream",
     "text": [
      "/tmp/ipykernel_17353/898797509.py:5: FutureWarning: In a future version, the Index constructor will not infer numeric dtypes when passed object-dtype sequences (matching Series behavior)\n",
      "  df['month'] = df['time'].dt.month_name()\n"
     ]
    },
    {
     "name": "stdout",
     "output_type": "stream",
     "text": [
      "[500]\tvalidation_0-rmse:0.06088\tvalidation_1-rmse:0.06073\n",
      "[1000]\tvalidation_0-rmse:0.05661\tvalidation_1-rmse:0.05656\n",
      "[1500]\tvalidation_0-rmse:0.05529\tvalidation_1-rmse:0.05532\n",
      "[2000]\tvalidation_0-rmse:0.05426\tvalidation_1-rmse:0.05447\n",
      "[2500]\tvalidation_0-rmse:0.05330\tvalidation_1-rmse:0.05350\n",
      "[3000]\tvalidation_0-rmse:0.05255\tvalidation_1-rmse:0.05276\n",
      "[3500]\tvalidation_0-rmse:0.05189\tvalidation_1-rmse:0.05210\n",
      "[4000]\tvalidation_0-rmse:0.05131\tvalidation_1-rmse:0.05145\n",
      "[4500]\tvalidation_0-rmse:0.05081\tvalidation_1-rmse:0.05093\n",
      "[4999]\tvalidation_0-rmse:0.05036\tvalidation_1-rmse:0.05047\n"
     ]
    },
    {
     "name": "stderr",
     "output_type": "stream",
     "text": [
      "/tmp/ipykernel_17353/3725533942.py:39: DeprecationWarning: In a future version, `df.iloc[:, i] = newvals` will attempt to set the values inplace instead of always setting a new array. To retain the old behavior, use either `df[df.columns[i]] = newvals` or, if columns are non-unique, `df.isetitem(i, newvals)`\n",
      "  df_test.iloc[:, 1] = predicted_power_rescaled\n"
     ]
    }
   ],
   "source": [
    "for file in files:\n",
    "    dataframe_training = generate_dataframe(file)\n",
    "    current_csv_file = file.split(\"/\")[4]\n",
    "    print(current_csv_file)\n",
    "    \n",
    "    dataframe_training = map_time(dataframe_training)    \n",
    "    dataframe_training_scaled = std_scale(dataframe_training, dataframe_training)\n",
    "    train_dataframe, val_dataframe = train_test_split(dataframe_training_scaled, test_size=0.2, random_state=12)\n",
    "    x_train, y_train = filter_split_df_input_output(dataframe_training_scaled, column_list_input, column_list_ouput)\n",
    "    x_val, y_val = filter_split_df_input_output(val_dataframe, column_list_input, column_list_ouput)\n",
    "    \n",
    "    # load the real test data\n",
    "    dataframe_test = pd.DataFrame()\n",
    "    test_file_name = file.replace(\"training\", \"test\")\n",
    "    dataframe_test = generate_dataframe(test_file_name)\n",
    "    dataframe_test = map_time(dataframe_test)  \n",
    "    dataframe_test_scaled = std_scale(dataframe_test[column_list_input], dataframe_training[column_list_input])\n",
    "\n",
    "    y_pred = xgb_regressor_custom_loss(x_train, y_train, dataframe_test_scaled, x_val, y_val)\n",
    "    predicted_power_rescaled = (y_pred * dataframe_training[column_list_ouput].values.std()) + dataframe_training[column_list_ouput].values.mean()\n",
    "\n",
    "    df_test = pd.read_csv(test_file_name)\n",
    "    # create a numpy array of float32 of shape [None, 1]\n",
    "    # fill the second column with the prediction array\n",
    "    df_test.iloc[:, 1] = predicted_power_rescaled\n",
    "    # save the DataFrame as a new csv file\n",
    "    csv_name = test_file_name.split(\"/\")[4]\n",
    "    prefix = str(id_number) + '_#' + str(Submission_number) + '_'\n",
    "    new_file_name = '/'.join(test_file_name.split(\"/\")[0:4]) + \"/\" + prefix + csv_name\n",
    "    # print(new_file_name)\n",
    "    df_test.to_csv(new_file_name, index=False)\n"
   ]
  },
  {
   "cell_type": "code",
   "execution_count": 25,
   "id": "752aee2a-24ff-4b28-a683-e9217da4c572",
   "metadata": {},
   "outputs": [],
   "source": [
    "'''\n",
    "This is dbscan with xgb custom loss and only wind parameters\n",
    "'''\n",
    "\n",
    "# modify the number below accordingly\n",
    "#Participant ID number\n",
    "id_number = 9\n",
    "#Submission Number\n",
    "Submission_number = 4\n",
    "\n",
    "# load all the .csv file in the folder that end with \"training\"\n",
    "# define the file paths of the CSV files \n",
    "path_training = r'../dataset/kelmarsh/training/*training.csv'\n",
    "path2 = r'../dataset/penmanshiel/training/*training.csv'\n",
    "files = glob.glob(path_training)+ glob.glob(path2)\n",
    "# dataframe_training = pd.DataFrame()\n",
    "\n",
    "column_list_input = ['wind_speed', 'wind_speed_sensor1', 'wind_speed_sensor1_SD', 'wind_speed_sensor2', 'wind_speed_sensor2_SD', 'density_adjusted_wind_speed']\n",
    "column_list_ouput = ['power']"
   ]
  },
  {
   "cell_type": "code",
   "execution_count": 26,
   "id": "9c325cbc-d008-4296-b673-e837ebdc1df9",
   "metadata": {
    "collapsed": true,
    "jupyter": {
     "outputs_hidden": true
    },
    "tags": []
   },
   "outputs": [
    {
     "name": "stdout",
     "output_type": "stream",
     "text": [
      "Kel_df2_training.csv\n",
      "[0]\tvalidation_0-rmse:1.10538\tvalidation_1-rmse:1.10806\n"
     ]
    },
    {
     "name": "stderr",
     "output_type": "stream",
     "text": [
      "/tmp/ipykernel_17353/898797509.py:5: FutureWarning: In a future version, the Index constructor will not infer numeric dtypes when passed object-dtype sequences (matching Series behavior)\n",
      "  df['month'] = df['time'].dt.month_name()\n"
     ]
    },
    {
     "name": "stdout",
     "output_type": "stream",
     "text": [
      "[500]\tvalidation_0-rmse:0.08115\tvalidation_1-rmse:0.07996\n",
      "[1000]\tvalidation_0-rmse:0.07943\tvalidation_1-rmse:0.07828\n",
      "[1500]\tvalidation_0-rmse:0.07858\tvalidation_1-rmse:0.07749\n",
      "[2000]\tvalidation_0-rmse:0.07769\tvalidation_1-rmse:0.07667\n",
      "[2500]\tvalidation_0-rmse:0.07675\tvalidation_1-rmse:0.07578\n",
      "[3000]\tvalidation_0-rmse:0.07596\tvalidation_1-rmse:0.07506\n",
      "[3500]\tvalidation_0-rmse:0.07527\tvalidation_1-rmse:0.07439\n",
      "[4000]\tvalidation_0-rmse:0.07463\tvalidation_1-rmse:0.07373\n",
      "[4500]\tvalidation_0-rmse:0.07402\tvalidation_1-rmse:0.07308\n",
      "[4999]\tvalidation_0-rmse:0.07352\tvalidation_1-rmse:0.07260\n"
     ]
    },
    {
     "name": "stderr",
     "output_type": "stream",
     "text": [
      "/tmp/ipykernel_17353/3725533942.py:39: DeprecationWarning: In a future version, `df.iloc[:, i] = newvals` will attempt to set the values inplace instead of always setting a new array. To retain the old behavior, use either `df[df.columns[i]] = newvals` or, if columns are non-unique, `df.isetitem(i, newvals)`\n",
      "  df_test.iloc[:, 1] = predicted_power_rescaled\n"
     ]
    },
    {
     "name": "stdout",
     "output_type": "stream",
     "text": [
      "Kel_df6_training.csv\n",
      "[0]\tvalidation_0-rmse:1.10518\tvalidation_1-rmse:1.10150\n"
     ]
    },
    {
     "name": "stderr",
     "output_type": "stream",
     "text": [
      "/tmp/ipykernel_17353/898797509.py:5: FutureWarning: In a future version, the Index constructor will not infer numeric dtypes when passed object-dtype sequences (matching Series behavior)\n",
      "  df['month'] = df['time'].dt.month_name()\n"
     ]
    },
    {
     "name": "stdout",
     "output_type": "stream",
     "text": [
      "[500]\tvalidation_0-rmse:0.09011\tvalidation_1-rmse:0.09011\n",
      "[1000]\tvalidation_0-rmse:0.08839\tvalidation_1-rmse:0.08837\n",
      "[1500]\tvalidation_0-rmse:0.08767\tvalidation_1-rmse:0.08752\n",
      "[2000]\tvalidation_0-rmse:0.08674\tvalidation_1-rmse:0.08656\n",
      "[2500]\tvalidation_0-rmse:0.08589\tvalidation_1-rmse:0.08571\n",
      "[3000]\tvalidation_0-rmse:0.08515\tvalidation_1-rmse:0.08486\n",
      "[3500]\tvalidation_0-rmse:0.08439\tvalidation_1-rmse:0.08401\n",
      "[4000]\tvalidation_0-rmse:0.08362\tvalidation_1-rmse:0.08320\n",
      "[4500]\tvalidation_0-rmse:0.08296\tvalidation_1-rmse:0.08249\n",
      "[4999]\tvalidation_0-rmse:0.08241\tvalidation_1-rmse:0.08192\n"
     ]
    },
    {
     "name": "stderr",
     "output_type": "stream",
     "text": [
      "/tmp/ipykernel_17353/3725533942.py:39: DeprecationWarning: In a future version, `df.iloc[:, i] = newvals` will attempt to set the values inplace instead of always setting a new array. To retain the old behavior, use either `df[df.columns[i]] = newvals` or, if columns are non-unique, `df.isetitem(i, newvals)`\n",
      "  df_test.iloc[:, 1] = predicted_power_rescaled\n"
     ]
    },
    {
     "name": "stdout",
     "output_type": "stream",
     "text": [
      "Kel_df4_training.csv\n",
      "[0]\tvalidation_0-rmse:1.10535\tvalidation_1-rmse:1.10723\n"
     ]
    },
    {
     "name": "stderr",
     "output_type": "stream",
     "text": [
      "/tmp/ipykernel_17353/898797509.py:5: FutureWarning: In a future version, the Index constructor will not infer numeric dtypes when passed object-dtype sequences (matching Series behavior)\n",
      "  df['month'] = df['time'].dt.month_name()\n"
     ]
    },
    {
     "name": "stdout",
     "output_type": "stream",
     "text": [
      "[500]\tvalidation_0-rmse:0.08068\tvalidation_1-rmse:0.07944\n",
      "[1000]\tvalidation_0-rmse:0.07872\tvalidation_1-rmse:0.07755\n",
      "[1500]\tvalidation_0-rmse:0.07765\tvalidation_1-rmse:0.07650\n",
      "[2000]\tvalidation_0-rmse:0.07638\tvalidation_1-rmse:0.07523\n",
      "[2500]\tvalidation_0-rmse:0.07523\tvalidation_1-rmse:0.07414\n",
      "[3000]\tvalidation_0-rmse:0.07430\tvalidation_1-rmse:0.07329\n",
      "[3500]\tvalidation_0-rmse:0.07351\tvalidation_1-rmse:0.07254\n",
      "[4000]\tvalidation_0-rmse:0.07284\tvalidation_1-rmse:0.07188\n",
      "[4500]\tvalidation_0-rmse:0.07216\tvalidation_1-rmse:0.07120\n",
      "[4999]\tvalidation_0-rmse:0.07154\tvalidation_1-rmse:0.07058\n"
     ]
    },
    {
     "name": "stderr",
     "output_type": "stream",
     "text": [
      "/tmp/ipykernel_17353/3725533942.py:39: DeprecationWarning: In a future version, `df.iloc[:, i] = newvals` will attempt to set the values inplace instead of always setting a new array. To retain the old behavior, use either `df[df.columns[i]] = newvals` or, if columns are non-unique, `df.isetitem(i, newvals)`\n",
      "  df_test.iloc[:, 1] = predicted_power_rescaled\n"
     ]
    },
    {
     "name": "stdout",
     "output_type": "stream",
     "text": [
      "Kel_df1_training.csv\n",
      "[0]\tvalidation_0-rmse:1.10525\tvalidation_1-rmse:1.10619\n"
     ]
    },
    {
     "name": "stderr",
     "output_type": "stream",
     "text": [
      "/tmp/ipykernel_17353/898797509.py:5: FutureWarning: In a future version, the Index constructor will not infer numeric dtypes when passed object-dtype sequences (matching Series behavior)\n",
      "  df['month'] = df['time'].dt.month_name()\n"
     ]
    },
    {
     "name": "stdout",
     "output_type": "stream",
     "text": [
      "[500]\tvalidation_0-rmse:0.08109\tvalidation_1-rmse:0.08027\n",
      "[1000]\tvalidation_0-rmse:0.07935\tvalidation_1-rmse:0.07858\n",
      "[1500]\tvalidation_0-rmse:0.07836\tvalidation_1-rmse:0.07755\n",
      "[2000]\tvalidation_0-rmse:0.07730\tvalidation_1-rmse:0.07647\n",
      "[2500]\tvalidation_0-rmse:0.07642\tvalidation_1-rmse:0.07559\n",
      "[3000]\tvalidation_0-rmse:0.07557\tvalidation_1-rmse:0.07472\n",
      "[3500]\tvalidation_0-rmse:0.07473\tvalidation_1-rmse:0.07387\n",
      "[4000]\tvalidation_0-rmse:0.07401\tvalidation_1-rmse:0.07313\n",
      "[4500]\tvalidation_0-rmse:0.07331\tvalidation_1-rmse:0.07243\n",
      "[4999]\tvalidation_0-rmse:0.07270\tvalidation_1-rmse:0.07185\n"
     ]
    },
    {
     "name": "stderr",
     "output_type": "stream",
     "text": [
      "/tmp/ipykernel_17353/3725533942.py:39: DeprecationWarning: In a future version, `df.iloc[:, i] = newvals` will attempt to set the values inplace instead of always setting a new array. To retain the old behavior, use either `df[df.columns[i]] = newvals` or, if columns are non-unique, `df.isetitem(i, newvals)`\n",
      "  df_test.iloc[:, 1] = predicted_power_rescaled\n"
     ]
    },
    {
     "name": "stdout",
     "output_type": "stream",
     "text": [
      "Kel_df5_training.csv\n",
      "[0]\tvalidation_0-rmse:1.10532\tvalidation_1-rmse:1.10419\n"
     ]
    },
    {
     "name": "stderr",
     "output_type": "stream",
     "text": [
      "/tmp/ipykernel_17353/898797509.py:5: FutureWarning: In a future version, the Index constructor will not infer numeric dtypes when passed object-dtype sequences (matching Series behavior)\n",
      "  df['month'] = df['time'].dt.month_name()\n"
     ]
    },
    {
     "name": "stdout",
     "output_type": "stream",
     "text": [
      "[500]\tvalidation_0-rmse:0.08554\tvalidation_1-rmse:0.08433\n",
      "[1000]\tvalidation_0-rmse:0.08359\tvalidation_1-rmse:0.08251\n",
      "[1500]\tvalidation_0-rmse:0.08252\tvalidation_1-rmse:0.08151\n",
      "[2000]\tvalidation_0-rmse:0.08159\tvalidation_1-rmse:0.08061\n",
      "[2500]\tvalidation_0-rmse:0.08049\tvalidation_1-rmse:0.07953\n",
      "[3000]\tvalidation_0-rmse:0.07961\tvalidation_1-rmse:0.07864\n",
      "[3500]\tvalidation_0-rmse:0.07870\tvalidation_1-rmse:0.07775\n",
      "[4000]\tvalidation_0-rmse:0.07786\tvalidation_1-rmse:0.07696\n",
      "[4500]\tvalidation_0-rmse:0.07715\tvalidation_1-rmse:0.07630\n",
      "[4999]\tvalidation_0-rmse:0.07644\tvalidation_1-rmse:0.07565\n"
     ]
    },
    {
     "name": "stderr",
     "output_type": "stream",
     "text": [
      "/tmp/ipykernel_17353/3725533942.py:39: DeprecationWarning: In a future version, `df.iloc[:, i] = newvals` will attempt to set the values inplace instead of always setting a new array. To retain the old behavior, use either `df[df.columns[i]] = newvals` or, if columns are non-unique, `df.isetitem(i, newvals)`\n",
      "  df_test.iloc[:, 1] = predicted_power_rescaled\n"
     ]
    },
    {
     "name": "stdout",
     "output_type": "stream",
     "text": [
      "Kel_df3_training.csv\n",
      "[0]\tvalidation_0-rmse:1.10532\tvalidation_1-rmse:1.11021\n"
     ]
    },
    {
     "name": "stderr",
     "output_type": "stream",
     "text": [
      "/tmp/ipykernel_17353/898797509.py:5: FutureWarning: In a future version, the Index constructor will not infer numeric dtypes when passed object-dtype sequences (matching Series behavior)\n",
      "  df['month'] = df['time'].dt.month_name()\n"
     ]
    },
    {
     "name": "stdout",
     "output_type": "stream",
     "text": [
      "[500]\tvalidation_0-rmse:0.09253\tvalidation_1-rmse:0.09089\n",
      "[1000]\tvalidation_0-rmse:0.09060\tvalidation_1-rmse:0.08877\n",
      "[1500]\tvalidation_0-rmse:0.08956\tvalidation_1-rmse:0.08768\n",
      "[2000]\tvalidation_0-rmse:0.08862\tvalidation_1-rmse:0.08682\n",
      "[2500]\tvalidation_0-rmse:0.08760\tvalidation_1-rmse:0.08574\n",
      "[3000]\tvalidation_0-rmse:0.08677\tvalidation_1-rmse:0.08493\n",
      "[3500]\tvalidation_0-rmse:0.08595\tvalidation_1-rmse:0.08420\n",
      "[4000]\tvalidation_0-rmse:0.08526\tvalidation_1-rmse:0.08357\n",
      "[4500]\tvalidation_0-rmse:0.08456\tvalidation_1-rmse:0.08296\n",
      "[4999]\tvalidation_0-rmse:0.08395\tvalidation_1-rmse:0.08239\n"
     ]
    },
    {
     "name": "stderr",
     "output_type": "stream",
     "text": [
      "/tmp/ipykernel_17353/3725533942.py:39: DeprecationWarning: In a future version, `df.iloc[:, i] = newvals` will attempt to set the values inplace instead of always setting a new array. To retain the old behavior, use either `df[df.columns[i]] = newvals` or, if columns are non-unique, `df.isetitem(i, newvals)`\n",
      "  df_test.iloc[:, 1] = predicted_power_rescaled\n"
     ]
    },
    {
     "name": "stdout",
     "output_type": "stream",
     "text": [
      "Pen_df13_training.csv\n",
      "[0]\tvalidation_0-rmse:1.10581\tvalidation_1-rmse:1.11128\n"
     ]
    },
    {
     "name": "stderr",
     "output_type": "stream",
     "text": [
      "/tmp/ipykernel_17353/898797509.py:5: FutureWarning: In a future version, the Index constructor will not infer numeric dtypes when passed object-dtype sequences (matching Series behavior)\n",
      "  df['month'] = df['time'].dt.month_name()\n"
     ]
    },
    {
     "name": "stdout",
     "output_type": "stream",
     "text": [
      "[500]\tvalidation_0-rmse:0.06370\tvalidation_1-rmse:0.06233\n",
      "[1000]\tvalidation_0-rmse:0.06122\tvalidation_1-rmse:0.05990\n",
      "[1500]\tvalidation_0-rmse:0.06066\tvalidation_1-rmse:0.05944\n",
      "[2000]\tvalidation_0-rmse:0.06011\tvalidation_1-rmse:0.05894\n",
      "[2500]\tvalidation_0-rmse:0.05962\tvalidation_1-rmse:0.05847\n",
      "[3000]\tvalidation_0-rmse:0.05901\tvalidation_1-rmse:0.05789\n",
      "[3500]\tvalidation_0-rmse:0.05842\tvalidation_1-rmse:0.05729\n",
      "[4000]\tvalidation_0-rmse:0.05785\tvalidation_1-rmse:0.05676\n",
      "[4500]\tvalidation_0-rmse:0.05728\tvalidation_1-rmse:0.05628\n",
      "[4999]\tvalidation_0-rmse:0.05679\tvalidation_1-rmse:0.05580\n"
     ]
    },
    {
     "name": "stderr",
     "output_type": "stream",
     "text": [
      "/tmp/ipykernel_17353/3725533942.py:39: DeprecationWarning: In a future version, `df.iloc[:, i] = newvals` will attempt to set the values inplace instead of always setting a new array. To retain the old behavior, use either `df[df.columns[i]] = newvals` or, if columns are non-unique, `df.isetitem(i, newvals)`\n",
      "  df_test.iloc[:, 1] = predicted_power_rescaled\n"
     ]
    },
    {
     "name": "stdout",
     "output_type": "stream",
     "text": [
      "Pen_df8_training.csv\n",
      "[0]\tvalidation_0-rmse:1.10558\tvalidation_1-rmse:1.10701\n"
     ]
    },
    {
     "name": "stderr",
     "output_type": "stream",
     "text": [
      "/tmp/ipykernel_17353/898797509.py:5: FutureWarning: In a future version, the Index constructor will not infer numeric dtypes when passed object-dtype sequences (matching Series behavior)\n",
      "  df['month'] = df['time'].dt.month_name()\n"
     ]
    },
    {
     "name": "stdout",
     "output_type": "stream",
     "text": [
      "[500]\tvalidation_0-rmse:0.06427\tvalidation_1-rmse:0.06413\n",
      "[1000]\tvalidation_0-rmse:0.06167\tvalidation_1-rmse:0.06170\n",
      "[1500]\tvalidation_0-rmse:0.06115\tvalidation_1-rmse:0.06114\n",
      "[2000]\tvalidation_0-rmse:0.06068\tvalidation_1-rmse:0.06065\n",
      "[2500]\tvalidation_0-rmse:0.06017\tvalidation_1-rmse:0.06015\n",
      "[3000]\tvalidation_0-rmse:0.05968\tvalidation_1-rmse:0.05966\n",
      "[3500]\tvalidation_0-rmse:0.05914\tvalidation_1-rmse:0.05911\n",
      "[4000]\tvalidation_0-rmse:0.05866\tvalidation_1-rmse:0.05866\n",
      "[4500]\tvalidation_0-rmse:0.05817\tvalidation_1-rmse:0.05819\n",
      "[4999]\tvalidation_0-rmse:0.05777\tvalidation_1-rmse:0.05780\n"
     ]
    },
    {
     "name": "stderr",
     "output_type": "stream",
     "text": [
      "/tmp/ipykernel_17353/3725533942.py:39: DeprecationWarning: In a future version, `df.iloc[:, i] = newvals` will attempt to set the values inplace instead of always setting a new array. To retain the old behavior, use either `df[df.columns[i]] = newvals` or, if columns are non-unique, `df.isetitem(i, newvals)`\n",
      "  df_test.iloc[:, 1] = predicted_power_rescaled\n"
     ]
    },
    {
     "name": "stdout",
     "output_type": "stream",
     "text": [
      "Pen_df15_training.csv\n",
      "[0]\tvalidation_0-rmse:1.10575\tvalidation_1-rmse:1.11728\n"
     ]
    },
    {
     "name": "stderr",
     "output_type": "stream",
     "text": [
      "/tmp/ipykernel_17353/898797509.py:5: FutureWarning: In a future version, the Index constructor will not infer numeric dtypes when passed object-dtype sequences (matching Series behavior)\n",
      "  df['month'] = df['time'].dt.month_name()\n"
     ]
    },
    {
     "name": "stdout",
     "output_type": "stream",
     "text": [
      "[500]\tvalidation_0-rmse:0.08114\tvalidation_1-rmse:0.07964\n",
      "[1000]\tvalidation_0-rmse:0.07795\tvalidation_1-rmse:0.07665\n",
      "[1500]\tvalidation_0-rmse:0.07739\tvalidation_1-rmse:0.07617\n",
      "[2000]\tvalidation_0-rmse:0.07687\tvalidation_1-rmse:0.07570\n",
      "[2500]\tvalidation_0-rmse:0.07626\tvalidation_1-rmse:0.07512\n",
      "[3000]\tvalidation_0-rmse:0.07568\tvalidation_1-rmse:0.07459\n",
      "[3500]\tvalidation_0-rmse:0.07512\tvalidation_1-rmse:0.07405\n",
      "[4000]\tvalidation_0-rmse:0.07463\tvalidation_1-rmse:0.07358\n",
      "[4500]\tvalidation_0-rmse:0.07415\tvalidation_1-rmse:0.07310\n",
      "[4999]\tvalidation_0-rmse:0.07366\tvalidation_1-rmse:0.07266\n"
     ]
    },
    {
     "name": "stderr",
     "output_type": "stream",
     "text": [
      "/tmp/ipykernel_17353/3725533942.py:39: DeprecationWarning: In a future version, `df.iloc[:, i] = newvals` will attempt to set the values inplace instead of always setting a new array. To retain the old behavior, use either `df[df.columns[i]] = newvals` or, if columns are non-unique, `df.isetitem(i, newvals)`\n",
      "  df_test.iloc[:, 1] = predicted_power_rescaled\n"
     ]
    },
    {
     "name": "stdout",
     "output_type": "stream",
     "text": [
      "Pen_df14_training.csv\n",
      "[0]\tvalidation_0-rmse:1.10572\tvalidation_1-rmse:1.11112\n"
     ]
    },
    {
     "name": "stderr",
     "output_type": "stream",
     "text": [
      "/tmp/ipykernel_17353/898797509.py:5: FutureWarning: In a future version, the Index constructor will not infer numeric dtypes when passed object-dtype sequences (matching Series behavior)\n",
      "  df['month'] = df['time'].dt.month_name()\n"
     ]
    },
    {
     "name": "stdout",
     "output_type": "stream",
     "text": [
      "[500]\tvalidation_0-rmse:0.06917\tvalidation_1-rmse:0.06873\n",
      "[1000]\tvalidation_0-rmse:0.06661\tvalidation_1-rmse:0.06582\n",
      "[1500]\tvalidation_0-rmse:0.06608\tvalidation_1-rmse:0.06523\n",
      "[2000]\tvalidation_0-rmse:0.06568\tvalidation_1-rmse:0.06482\n",
      "[2500]\tvalidation_0-rmse:0.06526\tvalidation_1-rmse:0.06443\n",
      "[3000]\tvalidation_0-rmse:0.06473\tvalidation_1-rmse:0.06394\n",
      "[3500]\tvalidation_0-rmse:0.06413\tvalidation_1-rmse:0.06345\n",
      "[4000]\tvalidation_0-rmse:0.06363\tvalidation_1-rmse:0.06300\n",
      "[4500]\tvalidation_0-rmse:0.06308\tvalidation_1-rmse:0.06252\n",
      "[4999]\tvalidation_0-rmse:0.06258\tvalidation_1-rmse:0.06201\n"
     ]
    },
    {
     "name": "stderr",
     "output_type": "stream",
     "text": [
      "/tmp/ipykernel_17353/3725533942.py:39: DeprecationWarning: In a future version, `df.iloc[:, i] = newvals` will attempt to set the values inplace instead of always setting a new array. To retain the old behavior, use either `df[df.columns[i]] = newvals` or, if columns are non-unique, `df.isetitem(i, newvals)`\n",
      "  df_test.iloc[:, 1] = predicted_power_rescaled\n"
     ]
    },
    {
     "name": "stdout",
     "output_type": "stream",
     "text": [
      "Pen_df1_training.csv\n",
      "[0]\tvalidation_0-rmse:1.10541\tvalidation_1-rmse:1.11497\n"
     ]
    },
    {
     "name": "stderr",
     "output_type": "stream",
     "text": [
      "/tmp/ipykernel_17353/898797509.py:5: FutureWarning: In a future version, the Index constructor will not infer numeric dtypes when passed object-dtype sequences (matching Series behavior)\n",
      "  df['month'] = df['time'].dt.month_name()\n"
     ]
    },
    {
     "name": "stdout",
     "output_type": "stream",
     "text": [
      "[500]\tvalidation_0-rmse:0.06610\tvalidation_1-rmse:0.06331\n",
      "[1000]\tvalidation_0-rmse:0.06360\tvalidation_1-rmse:0.06083\n",
      "[1500]\tvalidation_0-rmse:0.06308\tvalidation_1-rmse:0.06034\n",
      "[2000]\tvalidation_0-rmse:0.06261\tvalidation_1-rmse:0.05993\n",
      "[2500]\tvalidation_0-rmse:0.06208\tvalidation_1-rmse:0.05947\n",
      "[3000]\tvalidation_0-rmse:0.06155\tvalidation_1-rmse:0.05898\n",
      "[3500]\tvalidation_0-rmse:0.06099\tvalidation_1-rmse:0.05841\n",
      "[4000]\tvalidation_0-rmse:0.06052\tvalidation_1-rmse:0.05795\n",
      "[4500]\tvalidation_0-rmse:0.05997\tvalidation_1-rmse:0.05748\n",
      "[4999]\tvalidation_0-rmse:0.05943\tvalidation_1-rmse:0.05700\n"
     ]
    },
    {
     "name": "stderr",
     "output_type": "stream",
     "text": [
      "/tmp/ipykernel_17353/3725533942.py:39: DeprecationWarning: In a future version, `df.iloc[:, i] = newvals` will attempt to set the values inplace instead of always setting a new array. To retain the old behavior, use either `df[df.columns[i]] = newvals` or, if columns are non-unique, `df.isetitem(i, newvals)`\n",
      "  df_test.iloc[:, 1] = predicted_power_rescaled\n"
     ]
    },
    {
     "name": "stdout",
     "output_type": "stream",
     "text": [
      "Pen_df4_training.csv\n",
      "[0]\tvalidation_0-rmse:1.10553\tvalidation_1-rmse:1.10638\n"
     ]
    },
    {
     "name": "stderr",
     "output_type": "stream",
     "text": [
      "/tmp/ipykernel_17353/898797509.py:5: FutureWarning: In a future version, the Index constructor will not infer numeric dtypes when passed object-dtype sequences (matching Series behavior)\n",
      "  df['month'] = df['time'].dt.month_name()\n"
     ]
    },
    {
     "name": "stdout",
     "output_type": "stream",
     "text": [
      "[500]\tvalidation_0-rmse:0.06648\tvalidation_1-rmse:0.06565\n",
      "[1000]\tvalidation_0-rmse:0.06387\tvalidation_1-rmse:0.06287\n",
      "[1500]\tvalidation_0-rmse:0.06330\tvalidation_1-rmse:0.06235\n",
      "[2000]\tvalidation_0-rmse:0.06281\tvalidation_1-rmse:0.06192\n",
      "[2500]\tvalidation_0-rmse:0.06224\tvalidation_1-rmse:0.06138\n",
      "[3000]\tvalidation_0-rmse:0.06169\tvalidation_1-rmse:0.06088\n",
      "[3500]\tvalidation_0-rmse:0.06124\tvalidation_1-rmse:0.06049\n",
      "[4000]\tvalidation_0-rmse:0.06068\tvalidation_1-rmse:0.05997\n",
      "[4500]\tvalidation_0-rmse:0.06006\tvalidation_1-rmse:0.05930\n",
      "[4999]\tvalidation_0-rmse:0.05954\tvalidation_1-rmse:0.05869\n"
     ]
    },
    {
     "name": "stderr",
     "output_type": "stream",
     "text": [
      "/tmp/ipykernel_17353/3725533942.py:39: DeprecationWarning: In a future version, `df.iloc[:, i] = newvals` will attempt to set the values inplace instead of always setting a new array. To retain the old behavior, use either `df[df.columns[i]] = newvals` or, if columns are non-unique, `df.isetitem(i, newvals)`\n",
      "  df_test.iloc[:, 1] = predicted_power_rescaled\n"
     ]
    },
    {
     "name": "stdout",
     "output_type": "stream",
     "text": [
      "Pen_df11_training.csv\n",
      "[0]\tvalidation_0-rmse:1.10585\tvalidation_1-rmse:1.11292\n"
     ]
    },
    {
     "name": "stderr",
     "output_type": "stream",
     "text": [
      "/tmp/ipykernel_17353/898797509.py:5: FutureWarning: In a future version, the Index constructor will not infer numeric dtypes when passed object-dtype sequences (matching Series behavior)\n",
      "  df['month'] = df['time'].dt.month_name()\n"
     ]
    },
    {
     "name": "stdout",
     "output_type": "stream",
     "text": [
      "[500]\tvalidation_0-rmse:0.07069\tvalidation_1-rmse:0.06917\n",
      "[1000]\tvalidation_0-rmse:0.06768\tvalidation_1-rmse:0.06594\n",
      "[1500]\tvalidation_0-rmse:0.06709\tvalidation_1-rmse:0.06526\n",
      "[2000]\tvalidation_0-rmse:0.06666\tvalidation_1-rmse:0.06489\n",
      "[2500]\tvalidation_0-rmse:0.06618\tvalidation_1-rmse:0.06438\n",
      "[3000]\tvalidation_0-rmse:0.06570\tvalidation_1-rmse:0.06384\n",
      "[3500]\tvalidation_0-rmse:0.06526\tvalidation_1-rmse:0.06341\n",
      "[4000]\tvalidation_0-rmse:0.06484\tvalidation_1-rmse:0.06300\n",
      "[4500]\tvalidation_0-rmse:0.06444\tvalidation_1-rmse:0.06265\n",
      "[4999]\tvalidation_0-rmse:0.06410\tvalidation_1-rmse:0.06237\n"
     ]
    },
    {
     "name": "stderr",
     "output_type": "stream",
     "text": [
      "/tmp/ipykernel_17353/3725533942.py:39: DeprecationWarning: In a future version, `df.iloc[:, i] = newvals` will attempt to set the values inplace instead of always setting a new array. To retain the old behavior, use either `df[df.columns[i]] = newvals` or, if columns are non-unique, `df.isetitem(i, newvals)`\n",
      "  df_test.iloc[:, 1] = predicted_power_rescaled\n"
     ]
    },
    {
     "name": "stdout",
     "output_type": "stream",
     "text": [
      "Pen_df5_training.csv\n",
      "[0]\tvalidation_0-rmse:1.10564\tvalidation_1-rmse:1.10921\n"
     ]
    },
    {
     "name": "stderr",
     "output_type": "stream",
     "text": [
      "/tmp/ipykernel_17353/898797509.py:5: FutureWarning: In a future version, the Index constructor will not infer numeric dtypes when passed object-dtype sequences (matching Series behavior)\n",
      "  df['month'] = df['time'].dt.month_name()\n"
     ]
    },
    {
     "name": "stdout",
     "output_type": "stream",
     "text": [
      "[500]\tvalidation_0-rmse:0.06735\tvalidation_1-rmse:0.06691\n",
      "[1000]\tvalidation_0-rmse:0.06454\tvalidation_1-rmse:0.06381\n",
      "[1500]\tvalidation_0-rmse:0.06397\tvalidation_1-rmse:0.06320\n",
      "[2000]\tvalidation_0-rmse:0.06356\tvalidation_1-rmse:0.06285\n",
      "[2500]\tvalidation_0-rmse:0.06309\tvalidation_1-rmse:0.06246\n",
      "[3000]\tvalidation_0-rmse:0.06265\tvalidation_1-rmse:0.06205\n",
      "[3500]\tvalidation_0-rmse:0.06212\tvalidation_1-rmse:0.06157\n",
      "[4000]\tvalidation_0-rmse:0.06166\tvalidation_1-rmse:0.06114\n",
      "[4500]\tvalidation_0-rmse:0.06120\tvalidation_1-rmse:0.06072\n",
      "[4999]\tvalidation_0-rmse:0.06078\tvalidation_1-rmse:0.06036\n"
     ]
    },
    {
     "name": "stderr",
     "output_type": "stream",
     "text": [
      "/tmp/ipykernel_17353/3725533942.py:39: DeprecationWarning: In a future version, `df.iloc[:, i] = newvals` will attempt to set the values inplace instead of always setting a new array. To retain the old behavior, use either `df[df.columns[i]] = newvals` or, if columns are non-unique, `df.isetitem(i, newvals)`\n",
      "  df_test.iloc[:, 1] = predicted_power_rescaled\n"
     ]
    },
    {
     "name": "stdout",
     "output_type": "stream",
     "text": [
      "Pen_df10_training.csv\n",
      "[0]\tvalidation_0-rmse:1.10585\tvalidation_1-rmse:1.10076\n"
     ]
    },
    {
     "name": "stderr",
     "output_type": "stream",
     "text": [
      "/tmp/ipykernel_17353/898797509.py:5: FutureWarning: In a future version, the Index constructor will not infer numeric dtypes when passed object-dtype sequences (matching Series behavior)\n",
      "  df['month'] = df['time'].dt.month_name()\n"
     ]
    },
    {
     "name": "stdout",
     "output_type": "stream",
     "text": [
      "[500]\tvalidation_0-rmse:0.07222\tvalidation_1-rmse:0.07384\n",
      "[1000]\tvalidation_0-rmse:0.06947\tvalidation_1-rmse:0.07104\n",
      "[1500]\tvalidation_0-rmse:0.06893\tvalidation_1-rmse:0.07048\n",
      "[2000]\tvalidation_0-rmse:0.06839\tvalidation_1-rmse:0.06998\n",
      "[2500]\tvalidation_0-rmse:0.06791\tvalidation_1-rmse:0.06948\n",
      "[3000]\tvalidation_0-rmse:0.06752\tvalidation_1-rmse:0.06910\n",
      "[3500]\tvalidation_0-rmse:0.06714\tvalidation_1-rmse:0.06874\n",
      "[4000]\tvalidation_0-rmse:0.06665\tvalidation_1-rmse:0.06823\n",
      "[4500]\tvalidation_0-rmse:0.06616\tvalidation_1-rmse:0.06773\n",
      "[4999]\tvalidation_0-rmse:0.06569\tvalidation_1-rmse:0.06726\n"
     ]
    },
    {
     "name": "stderr",
     "output_type": "stream",
     "text": [
      "/tmp/ipykernel_17353/3725533942.py:39: DeprecationWarning: In a future version, `df.iloc[:, i] = newvals` will attempt to set the values inplace instead of always setting a new array. To retain the old behavior, use either `df[df.columns[i]] = newvals` or, if columns are non-unique, `df.isetitem(i, newvals)`\n",
      "  df_test.iloc[:, 1] = predicted_power_rescaled\n"
     ]
    },
    {
     "name": "stdout",
     "output_type": "stream",
     "text": [
      "Pen_df12_training.csv\n",
      "[0]\tvalidation_0-rmse:1.10571\tvalidation_1-rmse:1.10942\n"
     ]
    },
    {
     "name": "stderr",
     "output_type": "stream",
     "text": [
      "/tmp/ipykernel_17353/898797509.py:5: FutureWarning: In a future version, the Index constructor will not infer numeric dtypes when passed object-dtype sequences (matching Series behavior)\n",
      "  df['month'] = df['time'].dt.month_name()\n"
     ]
    },
    {
     "name": "stdout",
     "output_type": "stream",
     "text": [
      "[500]\tvalidation_0-rmse:0.07413\tvalidation_1-rmse:0.07372\n",
      "[1000]\tvalidation_0-rmse:0.07135\tvalidation_1-rmse:0.07091\n",
      "[1500]\tvalidation_0-rmse:0.07079\tvalidation_1-rmse:0.07031\n",
      "[2000]\tvalidation_0-rmse:0.07026\tvalidation_1-rmse:0.06974\n",
      "[2500]\tvalidation_0-rmse:0.06965\tvalidation_1-rmse:0.06917\n",
      "[3000]\tvalidation_0-rmse:0.06909\tvalidation_1-rmse:0.06862\n",
      "[3500]\tvalidation_0-rmse:0.06855\tvalidation_1-rmse:0.06806\n",
      "[4000]\tvalidation_0-rmse:0.06805\tvalidation_1-rmse:0.06757\n",
      "[4500]\tvalidation_0-rmse:0.06750\tvalidation_1-rmse:0.06708\n",
      "[4999]\tvalidation_0-rmse:0.06707\tvalidation_1-rmse:0.06670\n"
     ]
    },
    {
     "name": "stderr",
     "output_type": "stream",
     "text": [
      "/tmp/ipykernel_17353/3725533942.py:39: DeprecationWarning: In a future version, `df.iloc[:, i] = newvals` will attempt to set the values inplace instead of always setting a new array. To retain the old behavior, use either `df[df.columns[i]] = newvals` or, if columns are non-unique, `df.isetitem(i, newvals)`\n",
      "  df_test.iloc[:, 1] = predicted_power_rescaled\n"
     ]
    },
    {
     "name": "stdout",
     "output_type": "stream",
     "text": [
      "Pen_df2_training.csv\n",
      "[0]\tvalidation_0-rmse:1.10567\tvalidation_1-rmse:1.10480\n"
     ]
    },
    {
     "name": "stderr",
     "output_type": "stream",
     "text": [
      "/tmp/ipykernel_17353/898797509.py:5: FutureWarning: In a future version, the Index constructor will not infer numeric dtypes when passed object-dtype sequences (matching Series behavior)\n",
      "  df['month'] = df['time'].dt.month_name()\n"
     ]
    },
    {
     "name": "stdout",
     "output_type": "stream",
     "text": [
      "[500]\tvalidation_0-rmse:0.06968\tvalidation_1-rmse:0.07009\n",
      "[1000]\tvalidation_0-rmse:0.06720\tvalidation_1-rmse:0.06719\n",
      "[1500]\tvalidation_0-rmse:0.06666\tvalidation_1-rmse:0.06661\n",
      "[2000]\tvalidation_0-rmse:0.06612\tvalidation_1-rmse:0.06609\n",
      "[2500]\tvalidation_0-rmse:0.06561\tvalidation_1-rmse:0.06562\n",
      "[3000]\tvalidation_0-rmse:0.06519\tvalidation_1-rmse:0.06524\n",
      "[3500]\tvalidation_0-rmse:0.06477\tvalidation_1-rmse:0.06482\n",
      "[4000]\tvalidation_0-rmse:0.06424\tvalidation_1-rmse:0.06431\n",
      "[4500]\tvalidation_0-rmse:0.06372\tvalidation_1-rmse:0.06384\n",
      "[4999]\tvalidation_0-rmse:0.06329\tvalidation_1-rmse:0.06342\n"
     ]
    },
    {
     "name": "stderr",
     "output_type": "stream",
     "text": [
      "/tmp/ipykernel_17353/3725533942.py:39: DeprecationWarning: In a future version, `df.iloc[:, i] = newvals` will attempt to set the values inplace instead of always setting a new array. To retain the old behavior, use either `df[df.columns[i]] = newvals` or, if columns are non-unique, `df.isetitem(i, newvals)`\n",
      "  df_test.iloc[:, 1] = predicted_power_rescaled\n"
     ]
    },
    {
     "name": "stdout",
     "output_type": "stream",
     "text": [
      "Pen_df9_training.csv\n",
      "[0]\tvalidation_0-rmse:1.10557\tvalidation_1-rmse:1.10578\n"
     ]
    },
    {
     "name": "stderr",
     "output_type": "stream",
     "text": [
      "/tmp/ipykernel_17353/898797509.py:5: FutureWarning: In a future version, the Index constructor will not infer numeric dtypes when passed object-dtype sequences (matching Series behavior)\n",
      "  df['month'] = df['time'].dt.month_name()\n"
     ]
    },
    {
     "name": "stdout",
     "output_type": "stream",
     "text": [
      "[500]\tvalidation_0-rmse:0.07022\tvalidation_1-rmse:0.07070\n",
      "[1000]\tvalidation_0-rmse:0.06779\tvalidation_1-rmse:0.06823\n",
      "[1500]\tvalidation_0-rmse:0.06717\tvalidation_1-rmse:0.06763\n",
      "[2000]\tvalidation_0-rmse:0.06660\tvalidation_1-rmse:0.06709\n",
      "[2500]\tvalidation_0-rmse:0.06611\tvalidation_1-rmse:0.06661\n",
      "[3000]\tvalidation_0-rmse:0.06569\tvalidation_1-rmse:0.06619\n",
      "[3500]\tvalidation_0-rmse:0.06522\tvalidation_1-rmse:0.06572\n",
      "[4000]\tvalidation_0-rmse:0.06480\tvalidation_1-rmse:0.06529\n",
      "[4500]\tvalidation_0-rmse:0.06437\tvalidation_1-rmse:0.06484\n",
      "[4999]\tvalidation_0-rmse:0.06396\tvalidation_1-rmse:0.06445\n"
     ]
    },
    {
     "name": "stderr",
     "output_type": "stream",
     "text": [
      "/tmp/ipykernel_17353/3725533942.py:39: DeprecationWarning: In a future version, `df.iloc[:, i] = newvals` will attempt to set the values inplace instead of always setting a new array. To retain the old behavior, use either `df[df.columns[i]] = newvals` or, if columns are non-unique, `df.isetitem(i, newvals)`\n",
      "  df_test.iloc[:, 1] = predicted_power_rescaled\n"
     ]
    },
    {
     "name": "stdout",
     "output_type": "stream",
     "text": [
      "Pen_df7_training.csv\n",
      "[0]\tvalidation_0-rmse:1.10561\tvalidation_1-rmse:1.11270\n"
     ]
    },
    {
     "name": "stderr",
     "output_type": "stream",
     "text": [
      "/tmp/ipykernel_17353/898797509.py:5: FutureWarning: In a future version, the Index constructor will not infer numeric dtypes when passed object-dtype sequences (matching Series behavior)\n",
      "  df['month'] = df['time'].dt.month_name()\n"
     ]
    },
    {
     "name": "stdout",
     "output_type": "stream",
     "text": [
      "[500]\tvalidation_0-rmse:0.07056\tvalidation_1-rmse:0.06989\n",
      "[1000]\tvalidation_0-rmse:0.06799\tvalidation_1-rmse:0.06729\n",
      "[1500]\tvalidation_0-rmse:0.06742\tvalidation_1-rmse:0.06680\n",
      "[2000]\tvalidation_0-rmse:0.06683\tvalidation_1-rmse:0.06627\n",
      "[2500]\tvalidation_0-rmse:0.06626\tvalidation_1-rmse:0.06569\n",
      "[3000]\tvalidation_0-rmse:0.06571\tvalidation_1-rmse:0.06516\n",
      "[3500]\tvalidation_0-rmse:0.06516\tvalidation_1-rmse:0.06464\n",
      "[4000]\tvalidation_0-rmse:0.06467\tvalidation_1-rmse:0.06422\n",
      "[4500]\tvalidation_0-rmse:0.06408\tvalidation_1-rmse:0.06370\n",
      "[4999]\tvalidation_0-rmse:0.06358\tvalidation_1-rmse:0.06321\n"
     ]
    },
    {
     "name": "stderr",
     "output_type": "stream",
     "text": [
      "/tmp/ipykernel_17353/3725533942.py:39: DeprecationWarning: In a future version, `df.iloc[:, i] = newvals` will attempt to set the values inplace instead of always setting a new array. To retain the old behavior, use either `df[df.columns[i]] = newvals` or, if columns are non-unique, `df.isetitem(i, newvals)`\n",
      "  df_test.iloc[:, 1] = predicted_power_rescaled\n"
     ]
    },
    {
     "name": "stdout",
     "output_type": "stream",
     "text": [
      "Pen_df6_training.csv\n",
      "[0]\tvalidation_0-rmse:1.10561\tvalidation_1-rmse:1.10318\n"
     ]
    },
    {
     "name": "stderr",
     "output_type": "stream",
     "text": [
      "/tmp/ipykernel_17353/898797509.py:5: FutureWarning: In a future version, the Index constructor will not infer numeric dtypes when passed object-dtype sequences (matching Series behavior)\n",
      "  df['month'] = df['time'].dt.month_name()\n"
     ]
    },
    {
     "name": "stdout",
     "output_type": "stream",
     "text": [
      "[500]\tvalidation_0-rmse:0.06752\tvalidation_1-rmse:0.06619\n",
      "[1000]\tvalidation_0-rmse:0.06476\tvalidation_1-rmse:0.06349\n",
      "[1500]\tvalidation_0-rmse:0.06423\tvalidation_1-rmse:0.06288\n",
      "[2000]\tvalidation_0-rmse:0.06367\tvalidation_1-rmse:0.06230\n",
      "[2500]\tvalidation_0-rmse:0.06312\tvalidation_1-rmse:0.06175\n",
      "[3000]\tvalidation_0-rmse:0.06262\tvalidation_1-rmse:0.06129\n",
      "[3500]\tvalidation_0-rmse:0.06205\tvalidation_1-rmse:0.06078\n",
      "[4000]\tvalidation_0-rmse:0.06149\tvalidation_1-rmse:0.06027\n",
      "[4500]\tvalidation_0-rmse:0.06093\tvalidation_1-rmse:0.05980\n",
      "[4999]\tvalidation_0-rmse:0.06045\tvalidation_1-rmse:0.05939\n"
     ]
    },
    {
     "name": "stderr",
     "output_type": "stream",
     "text": [
      "/tmp/ipykernel_17353/3725533942.py:39: DeprecationWarning: In a future version, `df.iloc[:, i] = newvals` will attempt to set the values inplace instead of always setting a new array. To retain the old behavior, use either `df[df.columns[i]] = newvals` or, if columns are non-unique, `df.isetitem(i, newvals)`\n",
      "  df_test.iloc[:, 1] = predicted_power_rescaled\n"
     ]
    }
   ],
   "source": [
    "for file in files:\n",
    "    dataframe_training = generate_dataframe(file)\n",
    "    current_csv_file = file.split(\"/\")[4]\n",
    "    print(current_csv_file)\n",
    "    \n",
    "    dataframe_training = map_time(dataframe_training)    \n",
    "    dataframe_training_scaled = std_scale(dataframe_training, dataframe_training)\n",
    "    train_dataframe, val_dataframe = train_test_split(dataframe_training_scaled, test_size=0.2, random_state=12)\n",
    "    x_train, y_train = filter_split_df_input_output(dataframe_training_scaled, column_list_input, column_list_ouput)\n",
    "    x_val, y_val = filter_split_df_input_output(val_dataframe, column_list_input, column_list_ouput)\n",
    "\n",
    "    # load the real test data\n",
    "    dataframe_test = pd.DataFrame()\n",
    "    test_file_name = file.replace(\"training\", \"test\")\n",
    "    dataframe_test = generate_dataframe(test_file_name)\n",
    "    dataframe_test = map_time(dataframe_test)  \n",
    "    dataframe_test_scaled = std_scale(dataframe_test[column_list_input], dataframe_training[column_list_input])\n",
    "\n",
    "    y_pred = xgb_regressor_custom_loss(x_train, y_train, dataframe_test_scaled, x_val, y_val)\n",
    "    predicted_power_rescaled = (y_pred * dataframe_training[column_list_ouput].values.std()) + dataframe_training[column_list_ouput].values.mean()\n",
    "\n",
    "    df_test = pd.read_csv(test_file_name)\n",
    "    # create a numpy array of float32 of shape [None, 1]\n",
    "    # fill the second column with the prediction array\n",
    "    df_test.iloc[:, 1] = predicted_power_rescaled\n",
    "    # save the DataFrame as a new csv file\n",
    "    csv_name = test_file_name.split(\"/\")[4]\n",
    "    prefix = str(id_number) + '_#' + str(Submission_number) + '_'\n",
    "    new_file_name = '/'.join(test_file_name.split(\"/\")[0:4]) + \"/\" + prefix + csv_name\n",
    "    # print(new_file_name)\n",
    "    df_test.to_csv(new_file_name, index=False)\n"
   ]
  },
  {
   "cell_type": "code",
   "execution_count": null,
   "id": "28939cf0-f51f-46d1-85ce-6a14c7ca7161",
   "metadata": {
    "tags": []
   },
   "outputs": [],
   "source": []
  },
  {
   "cell_type": "code",
   "execution_count": null,
   "id": "3d9402a0-def3-4a70-be44-e39d8a2437f6",
   "metadata": {
    "tags": []
   },
   "outputs": [],
   "source": []
  },
  {
   "cell_type": "code",
   "execution_count": null,
   "id": "03b74355-5674-423c-a9e9-757b52a4ac3c",
   "metadata": {},
   "outputs": [],
   "source": []
  }
 ],
 "metadata": {
  "kernelspec": {
   "display_name": "Python 3 (ipykernel)",
   "language": "python",
   "name": "python3"
  },
  "language_info": {
   "codemirror_mode": {
    "name": "ipython",
    "version": 3
   },
   "file_extension": ".py",
   "mimetype": "text/x-python",
   "name": "python",
   "nbconvert_exporter": "python",
   "pygments_lexer": "ipython3",
   "version": "3.8.16"
  }
 },
 "nbformat": 4,
 "nbformat_minor": 5
}
